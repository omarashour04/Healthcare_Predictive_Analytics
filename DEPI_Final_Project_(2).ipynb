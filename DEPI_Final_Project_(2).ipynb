{
  "cells": [
    {
      "cell_type": "markdown",
      "metadata": {},
      "source": [
        "## IMPORTING LIBRARIES "
      ]
    },
    {
      "cell_type": "code",
      "execution_count": 1,
      "metadata": {},
      "outputs": [],
      "source": [
        "# Data manipulation and visualization\n",
        "import pandas as pd\n",
        "import numpy as np\n",
        "import matplotlib.pyplot as plt\n",
        "import seaborn as sns\n",
        "\n",
        "# Machine learning models and tools\n",
        "from xgboost import XGBClassifier\n",
        "from catboost import CatBoostClassifier\n",
        "from sklearn.ensemble import RandomForestClassifier\n",
        "from sklearn.model_selection import train_test_split, GridSearchCV\n",
        "from sklearn.preprocessing import LabelEncoder, StandardScaler\n",
        "from sklearn.metrics import (\n",
        "    accuracy_score, classification_report, confusion_matrix,\n",
        "    roc_curve, auc, roc_auc_score\n",
        ")\n",
        "\n",
        "# Handling imbalanced data\n",
        "from imblearn.over_sampling import SMOTE\n",
        "\n",
        "# Model persistence\n",
        "import joblib\n",
        "\n",
        "# Jupyter notebook utilities\n",
        "from IPython.display import display\n",
        "from IPython import get_ipython\n",
        "\n",
        "# MLflow tracking\n",
        "import mlflow\n",
        "import mlflow.sklearn\n"
      ]
    },
    {
      "cell_type": "markdown",
      "metadata": {
        "id": "ivDJkbvGna4q"
      },
      "source": [
        "## importing data \n"
      ]
    },
    {
      "cell_type": "code",
      "execution_count": 2,
      "metadata": {
        "colab": {
          "base_uri": "https://localhost:8080/",
          "height": 383
        },
        "id": "IqVvRjUtidRU",
        "outputId": "483faa1d-9e3f-44f8-8bd7-b06e14bbfe7b"
      },
      "outputs": [
        {
          "data": {
            "text/html": [
              "<div>\n",
              "<style scoped>\n",
              "    .dataframe tbody tr th:only-of-type {\n",
              "        vertical-align: middle;\n",
              "    }\n",
              "\n",
              "    .dataframe tbody tr th {\n",
              "        vertical-align: top;\n",
              "    }\n",
              "\n",
              "    .dataframe thead th {\n",
              "        text-align: right;\n",
              "    }\n",
              "</style>\n",
              "<table border=\"1\" class=\"dataframe\">\n",
              "  <thead>\n",
              "    <tr style=\"text-align: right;\">\n",
              "      <th></th>\n",
              "      <th>Name</th>\n",
              "      <th>Age</th>\n",
              "      <th>Gender</th>\n",
              "      <th>Blood Type</th>\n",
              "      <th>Medical Condition</th>\n",
              "      <th>Date of Admission</th>\n",
              "      <th>Doctor</th>\n",
              "      <th>Hospital</th>\n",
              "      <th>Insurance Provider</th>\n",
              "      <th>Billing Amount</th>\n",
              "      <th>Room Number</th>\n",
              "      <th>Admission Type</th>\n",
              "      <th>Discharge Date</th>\n",
              "      <th>Medication</th>\n",
              "      <th>Test Results</th>\n",
              "    </tr>\n",
              "  </thead>\n",
              "  <tbody>\n",
              "    <tr>\n",
              "      <th>0</th>\n",
              "      <td>Bobby JacksOn</td>\n",
              "      <td>30</td>\n",
              "      <td>Male</td>\n",
              "      <td>B-</td>\n",
              "      <td>Cancer</td>\n",
              "      <td>2024-01-31</td>\n",
              "      <td>Matthew Smith</td>\n",
              "      <td>Sons and Miller</td>\n",
              "      <td>Blue Cross</td>\n",
              "      <td>18856.281306</td>\n",
              "      <td>328</td>\n",
              "      <td>Urgent</td>\n",
              "      <td>2024-02-02</td>\n",
              "      <td>Paracetamol</td>\n",
              "      <td>Normal</td>\n",
              "    </tr>\n",
              "    <tr>\n",
              "      <th>1</th>\n",
              "      <td>LesLie TErRy</td>\n",
              "      <td>62</td>\n",
              "      <td>Male</td>\n",
              "      <td>A+</td>\n",
              "      <td>Obesity</td>\n",
              "      <td>2019-08-20</td>\n",
              "      <td>Samantha Davies</td>\n",
              "      <td>Kim Inc</td>\n",
              "      <td>Medicare</td>\n",
              "      <td>33643.327287</td>\n",
              "      <td>265</td>\n",
              "      <td>Emergency</td>\n",
              "      <td>2019-08-26</td>\n",
              "      <td>Ibuprofen</td>\n",
              "      <td>Inconclusive</td>\n",
              "    </tr>\n",
              "    <tr>\n",
              "      <th>2</th>\n",
              "      <td>DaNnY sMitH</td>\n",
              "      <td>76</td>\n",
              "      <td>Female</td>\n",
              "      <td>A-</td>\n",
              "      <td>Obesity</td>\n",
              "      <td>2022-09-22</td>\n",
              "      <td>Tiffany Mitchell</td>\n",
              "      <td>Cook PLC</td>\n",
              "      <td>Aetna</td>\n",
              "      <td>27955.096079</td>\n",
              "      <td>205</td>\n",
              "      <td>Emergency</td>\n",
              "      <td>2022-10-07</td>\n",
              "      <td>Aspirin</td>\n",
              "      <td>Normal</td>\n",
              "    </tr>\n",
              "    <tr>\n",
              "      <th>3</th>\n",
              "      <td>andrEw waTtS</td>\n",
              "      <td>28</td>\n",
              "      <td>Female</td>\n",
              "      <td>O+</td>\n",
              "      <td>Diabetes</td>\n",
              "      <td>2020-11-18</td>\n",
              "      <td>Kevin Wells</td>\n",
              "      <td>Hernandez Rogers and Vang,</td>\n",
              "      <td>Medicare</td>\n",
              "      <td>37909.782410</td>\n",
              "      <td>450</td>\n",
              "      <td>Elective</td>\n",
              "      <td>2020-12-18</td>\n",
              "      <td>Ibuprofen</td>\n",
              "      <td>Abnormal</td>\n",
              "    </tr>\n",
              "    <tr>\n",
              "      <th>4</th>\n",
              "      <td>adrIENNE bEll</td>\n",
              "      <td>43</td>\n",
              "      <td>Female</td>\n",
              "      <td>AB+</td>\n",
              "      <td>Cancer</td>\n",
              "      <td>2022-09-19</td>\n",
              "      <td>Kathleen Hanna</td>\n",
              "      <td>White-White</td>\n",
              "      <td>Aetna</td>\n",
              "      <td>14238.317814</td>\n",
              "      <td>458</td>\n",
              "      <td>Urgent</td>\n",
              "      <td>2022-10-09</td>\n",
              "      <td>Penicillin</td>\n",
              "      <td>Abnormal</td>\n",
              "    </tr>\n",
              "  </tbody>\n",
              "</table>\n",
              "</div>"
            ],
            "text/plain": [
              "            Name  Age  Gender Blood Type Medical Condition Date of Admission  \\\n",
              "0  Bobby JacksOn   30    Male         B-            Cancer        2024-01-31   \n",
              "1   LesLie TErRy   62    Male         A+           Obesity        2019-08-20   \n",
              "2    DaNnY sMitH   76  Female         A-           Obesity        2022-09-22   \n",
              "3   andrEw waTtS   28  Female         O+          Diabetes        2020-11-18   \n",
              "4  adrIENNE bEll   43  Female        AB+            Cancer        2022-09-19   \n",
              "\n",
              "             Doctor                    Hospital Insurance Provider  \\\n",
              "0     Matthew Smith             Sons and Miller         Blue Cross   \n",
              "1   Samantha Davies                     Kim Inc           Medicare   \n",
              "2  Tiffany Mitchell                    Cook PLC              Aetna   \n",
              "3       Kevin Wells  Hernandez Rogers and Vang,           Medicare   \n",
              "4    Kathleen Hanna                 White-White              Aetna   \n",
              "\n",
              "   Billing Amount  Room Number Admission Type Discharge Date   Medication  \\\n",
              "0    18856.281306          328         Urgent     2024-02-02  Paracetamol   \n",
              "1    33643.327287          265      Emergency     2019-08-26    Ibuprofen   \n",
              "2    27955.096079          205      Emergency     2022-10-07      Aspirin   \n",
              "3    37909.782410          450       Elective     2020-12-18    Ibuprofen   \n",
              "4    14238.317814          458         Urgent     2022-10-09   Penicillin   \n",
              "\n",
              "   Test Results  \n",
              "0        Normal  \n",
              "1  Inconclusive  \n",
              "2        Normal  \n",
              "3      Abnormal  \n",
              "4      Abnormal  "
            ]
          },
          "execution_count": 2,
          "metadata": {},
          "output_type": "execute_result"
        }
      ],
      "source": [
        "\n",
        "\n",
        "\n",
        "df = pd.read_csv('healthcare_dataset.csv')\n",
        "\n",
        "# 👁️ Display the first few rows\n",
        "df.head()\n"
      ]
    },
    {
      "cell_type": "code",
      "execution_count": 3,
      "metadata": {},
      "outputs": [
        {
          "data": {
            "text/plain": [
              "array(['Cancer', 'Obesity', 'Diabetes', 'Asthma', 'Hypertension',\n",
              "       'Arthritis'], dtype=object)"
            ]
          },
          "execution_count": 3,
          "metadata": {},
          "output_type": "execute_result"
        }
      ],
      "source": [
        "df[\"Medical Condition\"].unique()\n"
      ]
    },
    {
      "cell_type": "markdown",
      "metadata": {},
      "source": [
        "## Initial assessment\n"
      ]
    },
    {
      "cell_type": "code",
      "execution_count": 4,
      "metadata": {
        "colab": {
          "base_uri": "https://localhost:8080/"
        },
        "id": "ZIxUmbAOinHG",
        "outputId": "2bb98ef9-a43b-44a1-d375-a3192dbd48d1"
      },
      "outputs": [
        {
          "name": "stdout",
          "output_type": "stream",
          "text": [
            "Dataset shape: (55500, 15)\n",
            "\n",
            "Data types:\n",
            " Name                   object\n",
            "Age                     int64\n",
            "Gender                 object\n",
            "Blood Type             object\n",
            "Medical Condition      object\n",
            "Date of Admission      object\n",
            "Doctor                 object\n",
            "Hospital               object\n",
            "Insurance Provider     object\n",
            "Billing Amount        float64\n",
            "Room Number             int64\n",
            "Admission Type         object\n",
            "Discharge Date         object\n",
            "Medication             object\n",
            "Test Results           object\n",
            "dtype: object\n",
            "\n",
            "Sample data:\n",
            "             Name  Age  Gender Blood Type Medical Condition Date of Admission  \\\n",
            "0  Bobby JacksOn   30    Male         B-            Cancer        2024-01-31   \n",
            "1   LesLie TErRy   62    Male         A+           Obesity        2019-08-20   \n",
            "2    DaNnY sMitH   76  Female         A-           Obesity        2022-09-22   \n",
            "3   andrEw waTtS   28  Female         O+          Diabetes        2020-11-18   \n",
            "4  adrIENNE bEll   43  Female        AB+            Cancer        2022-09-19   \n",
            "\n",
            "             Doctor                    Hospital Insurance Provider  \\\n",
            "0     Matthew Smith             Sons and Miller         Blue Cross   \n",
            "1   Samantha Davies                     Kim Inc           Medicare   \n",
            "2  Tiffany Mitchell                    Cook PLC              Aetna   \n",
            "3       Kevin Wells  Hernandez Rogers and Vang,           Medicare   \n",
            "4    Kathleen Hanna                 White-White              Aetna   \n",
            "\n",
            "   Billing Amount  Room Number Admission Type Discharge Date   Medication  \\\n",
            "0    18856.281306          328         Urgent     2024-02-02  Paracetamol   \n",
            "1    33643.327287          265      Emergency     2019-08-26    Ibuprofen   \n",
            "2    27955.096079          205      Emergency     2022-10-07      Aspirin   \n",
            "3    37909.782410          450       Elective     2020-12-18    Ibuprofen   \n",
            "4    14238.317814          458         Urgent     2022-10-09   Penicillin   \n",
            "\n",
            "   Test Results  \n",
            "0        Normal  \n",
            "1  Inconclusive  \n",
            "2        Normal  \n",
            "3      Abnormal  \n",
            "4      Abnormal  \n"
          ]
        }
      ],
      "source": [
        "#Initial assessment\n",
        "print(f\"Dataset shape: {df.shape}\")\n",
        "print(\"\\nData types:\\n\", df.dtypes)\n",
        "print(\"\\nSample data:\\n\", df.head())"
      ]
    },
    {
      "cell_type": "code",
      "execution_count": 5,
      "metadata": {
        "colab": {
          "base_uri": "https://localhost:8080/"
        },
        "id": "sK5ICwA-itb8",
        "outputId": "3d1d7710-2084-4897-91bb-ff16851d3b82"
      },
      "outputs": [
        {
          "name": "stdout",
          "output_type": "stream",
          "text": [
            "Missing values :\n",
            " Name                  0\n",
            "Age                   0\n",
            "Gender                0\n",
            "Blood Type            0\n",
            "Medical Condition     0\n",
            "Date of Admission     0\n",
            "Doctor                0\n",
            "Hospital              0\n",
            "Insurance Provider    0\n",
            "Billing Amount        0\n",
            "Room Number           0\n",
            "Admission Type        0\n",
            "Discharge Date        0\n",
            "Medication            0\n",
            "Test Results          0\n",
            "dtype: int64\n"
          ]
        }
      ],
      "source": [
        "# Check for missing values\n",
        "print(\"Missing values :\\n\", df.isnull().sum())"
      ]
    },
    {
      "cell_type": "code",
      "execution_count": 6,
      "metadata": {
        "colab": {
          "base_uri": "https://localhost:8080/"
        },
        "id": "iO8RpWyzi76f",
        "outputId": "72da930f-71a3-46fe-91fb-9ff986f12123"
      },
      "outputs": [
        {
          "name": "stdout",
          "output_type": "stream",
          "text": [
            "Duplicate rows: 534\n"
          ]
        }
      ],
      "source": [
        "# Check for duplicate rows\n",
        "print(f\"Duplicate rows: {df.duplicated().sum()}\")"
      ]
    },
    {
      "cell_type": "markdown",
      "metadata": {},
      "source": [
        "## removing duplicates "
      ]
    },
    {
      "cell_type": "code",
      "execution_count": 7,
      "metadata": {
        "id": "8fGd1X3Pi_fu"
      },
      "outputs": [],
      "source": [
        "# Remove duplicates keeping the first occurrence\n",
        "df.drop_duplicates(inplace=True)"
      ]
    },
    {
      "cell_type": "markdown",
      "metadata": {
        "id": "uPFso3qaRP_Z"
      },
      "source": [
        "## Normalization"
      ]
    },
    {
      "cell_type": "code",
      "execution_count": 8,
      "metadata": {
        "colab": {
          "base_uri": "https://localhost:8080/"
        },
        "id": "LLfdR1WdlAct",
        "outputId": "2a841cd3-6760-4f07-b282-4cd709aa3a07"
      },
      "outputs": [
        {
          "name": "stdout",
          "output_type": "stream",
          "text": [
            "            Name  Age  Gender Blood Type Medical Condition Date of Admission  \\\n",
            "0  Bobby JacksOn   30    Male         B-            Cancer        2024-01-31   \n",
            "1   LesLie TErRy   62    Male         A+           Obesity        2019-08-20   \n",
            "2    DaNnY sMitH   76  Female         A-           Obesity        2022-09-22   \n",
            "3   andrEw waTtS   28  Female         O+          Diabetes        2020-11-18   \n",
            "4  adrIENNE bEll   43  Female        AB+            Cancer        2022-09-19   \n",
            "\n",
            "             Doctor                    Hospital Insurance Provider  \\\n",
            "0     Matthew Smith             Sons and Miller         Blue Cross   \n",
            "1   Samantha Davies                     Kim Inc           Medicare   \n",
            "2  Tiffany Mitchell                    Cook PLC              Aetna   \n",
            "3       Kevin Wells  Hernandez Rogers and Vang,           Medicare   \n",
            "4    Kathleen Hanna                 White-White              Aetna   \n",
            "\n",
            "   Billing Amount  Room Number Admission Type Discharge Date   Medication  \\\n",
            "0    18856.281306          328         Urgent     2024-02-02  Paracetamol   \n",
            "1    33643.327287          265      Emergency     2019-08-26    Ibuprofen   \n",
            "2    27955.096079          205      Emergency     2022-10-07      Aspirin   \n",
            "3    37909.782410          450       Elective     2020-12-18    Ibuprofen   \n",
            "4    14238.317814          458         Urgent     2022-10-09   Penicillin   \n",
            "\n",
            "   Test Results  Billing Amount_normalized  \n",
            "0        Normal                   0.380933  \n",
            "1  Inconclusive                   0.650904  \n",
            "2        Normal                   0.547053  \n",
            "3      Abnormal                   0.728798  \n",
            "4      Abnormal                   0.296622  \n"
          ]
        }
      ],
      "source": [
        "#Select numerical columns for normalization\n",
        "numerical_cols = ['Billing Amount']\n",
        "\n",
        "# Apply Min-Max normalization\n",
        "for col in numerical_cols:\n",
        "    min_val = df[col].min()\n",
        "    max_val = df[col].max()\n",
        "    df[col + '_normalized'] = (df[col] - min_val) / (max_val - min_val)\n",
        "\n",
        "\n",
        "\n",
        "print(df.head())\n"
      ]
    },
    {
      "cell_type": "markdown",
      "metadata": {
        "id": "3MQOkaWmRa-E"
      },
      "source": [
        "## Data selection"
      ]
    },
    {
      "cell_type": "code",
      "execution_count": 9,
      "metadata": {
        "id": "AJu6yn0jRk-b"
      },
      "outputs": [],
      "source": [
        "# Select patients over 60 years old\n",
        "elderly_patients = df[df['Age'] > 60]\n",
        "\n",
        "# Select admissions with billing amount over 90th percentile\n",
        "high_billing = df[df['Billing Amount'] > df['Billing Amount'].quantile(0.9)]\n",
        "\n",
        "# Select female patients with a specific condition\n",
        "female_diabetes = df[(df['Gender'] == 'Female') & (df['Medical Condition'] == 'Diabetes')]\n"
      ]
    },
    {
      "cell_type": "code",
      "execution_count": 10,
      "metadata": {
        "colab": {
          "base_uri": "https://localhost:8080/",
          "height": 1000
        },
        "id": "7GWBH8whSDkc",
        "outputId": "b8200ef2-4811-4986-eefd-c9d10db3df9c"
      },
      "outputs": [
        {
          "data": {
            "text/html": [
              "<div>\n",
              "<style scoped>\n",
              "    .dataframe tbody tr th:only-of-type {\n",
              "        vertical-align: middle;\n",
              "    }\n",
              "\n",
              "    .dataframe tbody tr th {\n",
              "        vertical-align: top;\n",
              "    }\n",
              "\n",
              "    .dataframe thead th {\n",
              "        text-align: right;\n",
              "    }\n",
              "</style>\n",
              "<table border=\"1\" class=\"dataframe\">\n",
              "  <thead>\n",
              "    <tr style=\"text-align: right;\">\n",
              "      <th></th>\n",
              "      <th>Name</th>\n",
              "      <th>Age</th>\n",
              "      <th>Gender</th>\n",
              "      <th>Blood Type</th>\n",
              "      <th>Medical Condition</th>\n",
              "      <th>Date of Admission</th>\n",
              "      <th>Doctor</th>\n",
              "      <th>Hospital</th>\n",
              "      <th>Insurance Provider</th>\n",
              "      <th>Billing Amount</th>\n",
              "      <th>Room Number</th>\n",
              "      <th>Admission Type</th>\n",
              "      <th>Discharge Date</th>\n",
              "      <th>Medication</th>\n",
              "      <th>Test Results</th>\n",
              "      <th>Billing Amount_normalized</th>\n",
              "    </tr>\n",
              "  </thead>\n",
              "  <tbody>\n",
              "    <tr>\n",
              "      <th>1</th>\n",
              "      <td>LesLie TErRy</td>\n",
              "      <td>62</td>\n",
              "      <td>Male</td>\n",
              "      <td>A+</td>\n",
              "      <td>Obesity</td>\n",
              "      <td>2019-08-20</td>\n",
              "      <td>Samantha Davies</td>\n",
              "      <td>Kim Inc</td>\n",
              "      <td>Medicare</td>\n",
              "      <td>33643.327287</td>\n",
              "      <td>265</td>\n",
              "      <td>Emergency</td>\n",
              "      <td>2019-08-26</td>\n",
              "      <td>Ibuprofen</td>\n",
              "      <td>Inconclusive</td>\n",
              "      <td>0.650904</td>\n",
              "    </tr>\n",
              "    <tr>\n",
              "      <th>2</th>\n",
              "      <td>DaNnY sMitH</td>\n",
              "      <td>76</td>\n",
              "      <td>Female</td>\n",
              "      <td>A-</td>\n",
              "      <td>Obesity</td>\n",
              "      <td>2022-09-22</td>\n",
              "      <td>Tiffany Mitchell</td>\n",
              "      <td>Cook PLC</td>\n",
              "      <td>Aetna</td>\n",
              "      <td>27955.096079</td>\n",
              "      <td>205</td>\n",
              "      <td>Emergency</td>\n",
              "      <td>2022-10-07</td>\n",
              "      <td>Aspirin</td>\n",
              "      <td>Normal</td>\n",
              "      <td>0.547053</td>\n",
              "    </tr>\n",
              "    <tr>\n",
              "      <th>8</th>\n",
              "      <td>JASmINe aGuIlaR</td>\n",
              "      <td>82</td>\n",
              "      <td>Male</td>\n",
              "      <td>AB+</td>\n",
              "      <td>Asthma</td>\n",
              "      <td>2020-07-01</td>\n",
              "      <td>Daniel Ferguson</td>\n",
              "      <td>Sons Rich and</td>\n",
              "      <td>Cigna</td>\n",
              "      <td>50119.222792</td>\n",
              "      <td>316</td>\n",
              "      <td>Elective</td>\n",
              "      <td>2020-07-14</td>\n",
              "      <td>Aspirin</td>\n",
              "      <td>Abnormal</td>\n",
              "      <td>0.951709</td>\n",
              "    </tr>\n",
              "    <tr>\n",
              "      <th>10</th>\n",
              "      <td>mIchElLe daniELs</td>\n",
              "      <td>72</td>\n",
              "      <td>Male</td>\n",
              "      <td>O+</td>\n",
              "      <td>Cancer</td>\n",
              "      <td>2020-04-19</td>\n",
              "      <td>John Duncan</td>\n",
              "      <td>Schaefer-Porter</td>\n",
              "      <td>Medicare</td>\n",
              "      <td>12576.795609</td>\n",
              "      <td>394</td>\n",
              "      <td>Urgent</td>\n",
              "      <td>2020-04-22</td>\n",
              "      <td>Paracetamol</td>\n",
              "      <td>Normal</td>\n",
              "      <td>0.266287</td>\n",
              "    </tr>\n",
              "    <tr>\n",
              "      <th>12</th>\n",
              "      <td>connOR HANsEn</td>\n",
              "      <td>75</td>\n",
              "      <td>Female</td>\n",
              "      <td>A+</td>\n",
              "      <td>Diabetes</td>\n",
              "      <td>2019-12-12</td>\n",
              "      <td>Kenneth Fletcher</td>\n",
              "      <td>Powers Miller, and Flores</td>\n",
              "      <td>Cigna</td>\n",
              "      <td>43282.283358</td>\n",
              "      <td>134</td>\n",
              "      <td>Emergency</td>\n",
              "      <td>2019-12-28</td>\n",
              "      <td>Penicillin</td>\n",
              "      <td>Abnormal</td>\n",
              "      <td>0.826885</td>\n",
              "    </tr>\n",
              "  </tbody>\n",
              "</table>\n",
              "</div>"
            ],
            "text/plain": [
              "                Name  Age  Gender Blood Type Medical Condition  \\\n",
              "1       LesLie TErRy   62    Male         A+           Obesity   \n",
              "2        DaNnY sMitH   76  Female         A-           Obesity   \n",
              "8    JASmINe aGuIlaR   82    Male        AB+            Asthma   \n",
              "10  mIchElLe daniELs   72    Male         O+            Cancer   \n",
              "12     connOR HANsEn   75  Female         A+          Diabetes   \n",
              "\n",
              "   Date of Admission            Doctor                   Hospital  \\\n",
              "1         2019-08-20   Samantha Davies                    Kim Inc   \n",
              "2         2022-09-22  Tiffany Mitchell                   Cook PLC   \n",
              "8         2020-07-01   Daniel Ferguson              Sons Rich and   \n",
              "10        2020-04-19       John Duncan            Schaefer-Porter   \n",
              "12        2019-12-12  Kenneth Fletcher  Powers Miller, and Flores   \n",
              "\n",
              "   Insurance Provider  Billing Amount  Room Number Admission Type  \\\n",
              "1            Medicare    33643.327287          265      Emergency   \n",
              "2               Aetna    27955.096079          205      Emergency   \n",
              "8               Cigna    50119.222792          316       Elective   \n",
              "10           Medicare    12576.795609          394         Urgent   \n",
              "12              Cigna    43282.283358          134      Emergency   \n",
              "\n",
              "   Discharge Date   Medication  Test Results  Billing Amount_normalized  \n",
              "1      2019-08-26    Ibuprofen  Inconclusive                   0.650904  \n",
              "2      2022-10-07      Aspirin        Normal                   0.547053  \n",
              "8      2020-07-14      Aspirin      Abnormal                   0.951709  \n",
              "10     2020-04-22  Paracetamol        Normal                   0.266287  \n",
              "12     2019-12-28   Penicillin      Abnormal                   0.826885  "
            ]
          },
          "metadata": {},
          "output_type": "display_data"
        },
        {
          "data": {
            "text/html": [
              "<div>\n",
              "<style scoped>\n",
              "    .dataframe tbody tr th:only-of-type {\n",
              "        vertical-align: middle;\n",
              "    }\n",
              "\n",
              "    .dataframe tbody tr th {\n",
              "        vertical-align: top;\n",
              "    }\n",
              "\n",
              "    .dataframe thead th {\n",
              "        text-align: right;\n",
              "    }\n",
              "</style>\n",
              "<table border=\"1\" class=\"dataframe\">\n",
              "  <thead>\n",
              "    <tr style=\"text-align: right;\">\n",
              "      <th></th>\n",
              "      <th>Name</th>\n",
              "      <th>Age</th>\n",
              "      <th>Gender</th>\n",
              "      <th>Blood Type</th>\n",
              "      <th>Medical Condition</th>\n",
              "      <th>Date of Admission</th>\n",
              "      <th>Doctor</th>\n",
              "      <th>Hospital</th>\n",
              "      <th>Insurance Provider</th>\n",
              "      <th>Billing Amount</th>\n",
              "      <th>Room Number</th>\n",
              "      <th>Admission Type</th>\n",
              "      <th>Discharge Date</th>\n",
              "      <th>Medication</th>\n",
              "      <th>Test Results</th>\n",
              "      <th>Billing Amount_normalized</th>\n",
              "    </tr>\n",
              "  </thead>\n",
              "  <tbody>\n",
              "    <tr>\n",
              "      <th>5</th>\n",
              "      <td>EMILY JOHNSOn</td>\n",
              "      <td>36</td>\n",
              "      <td>Male</td>\n",
              "      <td>A+</td>\n",
              "      <td>Asthma</td>\n",
              "      <td>2023-12-20</td>\n",
              "      <td>Taylor Newton</td>\n",
              "      <td>Nunez-Humphrey</td>\n",
              "      <td>UnitedHealthcare</td>\n",
              "      <td>48145.110951</td>\n",
              "      <td>389</td>\n",
              "      <td>Urgent</td>\n",
              "      <td>2023-12-24</td>\n",
              "      <td>Ibuprofen</td>\n",
              "      <td>Normal</td>\n",
              "      <td>0.915667</td>\n",
              "    </tr>\n",
              "    <tr>\n",
              "      <th>7</th>\n",
              "      <td>CHrisTInA MARtinez</td>\n",
              "      <td>20</td>\n",
              "      <td>Female</td>\n",
              "      <td>A+</td>\n",
              "      <td>Cancer</td>\n",
              "      <td>2021-12-28</td>\n",
              "      <td>Suzanne Thomas</td>\n",
              "      <td>Powell Robinson and Valdez,</td>\n",
              "      <td>Cigna</td>\n",
              "      <td>45820.462722</td>\n",
              "      <td>277</td>\n",
              "      <td>Emergency</td>\n",
              "      <td>2022-01-07</td>\n",
              "      <td>Paracetamol</td>\n",
              "      <td>Inconclusive</td>\n",
              "      <td>0.873225</td>\n",
              "    </tr>\n",
              "    <tr>\n",
              "      <th>8</th>\n",
              "      <td>JASmINe aGuIlaR</td>\n",
              "      <td>82</td>\n",
              "      <td>Male</td>\n",
              "      <td>AB+</td>\n",
              "      <td>Asthma</td>\n",
              "      <td>2020-07-01</td>\n",
              "      <td>Daniel Ferguson</td>\n",
              "      <td>Sons Rich and</td>\n",
              "      <td>Cigna</td>\n",
              "      <td>50119.222792</td>\n",
              "      <td>316</td>\n",
              "      <td>Elective</td>\n",
              "      <td>2020-07-14</td>\n",
              "      <td>Aspirin</td>\n",
              "      <td>Abnormal</td>\n",
              "      <td>0.951709</td>\n",
              "    </tr>\n",
              "    <tr>\n",
              "      <th>30</th>\n",
              "      <td>ThOMAS MartInEZ</td>\n",
              "      <td>34</td>\n",
              "      <td>Male</td>\n",
              "      <td>B-</td>\n",
              "      <td>Asthma</td>\n",
              "      <td>2019-08-18</td>\n",
              "      <td>Jacob Huynh</td>\n",
              "      <td>Hart Ltd</td>\n",
              "      <td>Cigna</td>\n",
              "      <td>47909.128810</td>\n",
              "      <td>371</td>\n",
              "      <td>Urgent</td>\n",
              "      <td>2019-09-01</td>\n",
              "      <td>Ibuprofen</td>\n",
              "      <td>Inconclusive</td>\n",
              "      <td>0.911358</td>\n",
              "    </tr>\n",
              "    <tr>\n",
              "      <th>35</th>\n",
              "      <td>DAvID AndErSON</td>\n",
              "      <td>25</td>\n",
              "      <td>Female</td>\n",
              "      <td>AB+</td>\n",
              "      <td>Asthma</td>\n",
              "      <td>2021-01-07</td>\n",
              "      <td>Emma Allison</td>\n",
              "      <td>Sons and Cox</td>\n",
              "      <td>Medicare</td>\n",
              "      <td>45453.418546</td>\n",
              "      <td>228</td>\n",
              "      <td>Elective</td>\n",
              "      <td>2021-01-26</td>\n",
              "      <td>Lipitor</td>\n",
              "      <td>Abnormal</td>\n",
              "      <td>0.866524</td>\n",
              "    </tr>\n",
              "  </tbody>\n",
              "</table>\n",
              "</div>"
            ],
            "text/plain": [
              "                  Name  Age  Gender Blood Type Medical Condition  \\\n",
              "5        EMILY JOHNSOn   36    Male         A+            Asthma   \n",
              "7   CHrisTInA MARtinez   20  Female         A+            Cancer   \n",
              "8      JASmINe aGuIlaR   82    Male        AB+            Asthma   \n",
              "30     ThOMAS MartInEZ   34    Male         B-            Asthma   \n",
              "35      DAvID AndErSON   25  Female        AB+            Asthma   \n",
              "\n",
              "   Date of Admission           Doctor                     Hospital  \\\n",
              "5         2023-12-20    Taylor Newton               Nunez-Humphrey   \n",
              "7         2021-12-28   Suzanne Thomas  Powell Robinson and Valdez,   \n",
              "8         2020-07-01  Daniel Ferguson                Sons Rich and   \n",
              "30        2019-08-18      Jacob Huynh                     Hart Ltd   \n",
              "35        2021-01-07     Emma Allison                 Sons and Cox   \n",
              "\n",
              "   Insurance Provider  Billing Amount  Room Number Admission Type  \\\n",
              "5    UnitedHealthcare    48145.110951          389         Urgent   \n",
              "7               Cigna    45820.462722          277      Emergency   \n",
              "8               Cigna    50119.222792          316       Elective   \n",
              "30              Cigna    47909.128810          371         Urgent   \n",
              "35           Medicare    45453.418546          228       Elective   \n",
              "\n",
              "   Discharge Date   Medication  Test Results  Billing Amount_normalized  \n",
              "5      2023-12-24    Ibuprofen        Normal                   0.915667  \n",
              "7      2022-01-07  Paracetamol  Inconclusive                   0.873225  \n",
              "8      2020-07-14      Aspirin      Abnormal                   0.951709  \n",
              "30     2019-09-01    Ibuprofen  Inconclusive                   0.911358  \n",
              "35     2021-01-26      Lipitor      Abnormal                   0.866524  "
            ]
          },
          "metadata": {},
          "output_type": "display_data"
        },
        {
          "data": {
            "text/html": [
              "<div>\n",
              "<style scoped>\n",
              "    .dataframe tbody tr th:only-of-type {\n",
              "        vertical-align: middle;\n",
              "    }\n",
              "\n",
              "    .dataframe tbody tr th {\n",
              "        vertical-align: top;\n",
              "    }\n",
              "\n",
              "    .dataframe thead th {\n",
              "        text-align: right;\n",
              "    }\n",
              "</style>\n",
              "<table border=\"1\" class=\"dataframe\">\n",
              "  <thead>\n",
              "    <tr style=\"text-align: right;\">\n",
              "      <th></th>\n",
              "      <th>Name</th>\n",
              "      <th>Age</th>\n",
              "      <th>Gender</th>\n",
              "      <th>Blood Type</th>\n",
              "      <th>Medical Condition</th>\n",
              "      <th>Date of Admission</th>\n",
              "      <th>Doctor</th>\n",
              "      <th>Hospital</th>\n",
              "      <th>Insurance Provider</th>\n",
              "      <th>Billing Amount</th>\n",
              "      <th>Room Number</th>\n",
              "      <th>Admission Type</th>\n",
              "      <th>Discharge Date</th>\n",
              "      <th>Medication</th>\n",
              "      <th>Test Results</th>\n",
              "      <th>Billing Amount_normalized</th>\n",
              "    </tr>\n",
              "  </thead>\n",
              "  <tbody>\n",
              "    <tr>\n",
              "      <th>3</th>\n",
              "      <td>andrEw waTtS</td>\n",
              "      <td>28</td>\n",
              "      <td>Female</td>\n",
              "      <td>O+</td>\n",
              "      <td>Diabetes</td>\n",
              "      <td>2020-11-18</td>\n",
              "      <td>Kevin Wells</td>\n",
              "      <td>Hernandez Rogers and Vang,</td>\n",
              "      <td>Medicare</td>\n",
              "      <td>37909.782410</td>\n",
              "      <td>450</td>\n",
              "      <td>Elective</td>\n",
              "      <td>2020-12-18</td>\n",
              "      <td>Ibuprofen</td>\n",
              "      <td>Abnormal</td>\n",
              "      <td>0.728798</td>\n",
              "    </tr>\n",
              "    <tr>\n",
              "      <th>6</th>\n",
              "      <td>edwArD EDWaRDs</td>\n",
              "      <td>21</td>\n",
              "      <td>Female</td>\n",
              "      <td>AB-</td>\n",
              "      <td>Diabetes</td>\n",
              "      <td>2020-11-03</td>\n",
              "      <td>Kelly Olson</td>\n",
              "      <td>Group Middleton</td>\n",
              "      <td>Medicare</td>\n",
              "      <td>19580.872345</td>\n",
              "      <td>389</td>\n",
              "      <td>Emergency</td>\n",
              "      <td>2020-11-15</td>\n",
              "      <td>Paracetamol</td>\n",
              "      <td>Inconclusive</td>\n",
              "      <td>0.394162</td>\n",
              "    </tr>\n",
              "    <tr>\n",
              "      <th>12</th>\n",
              "      <td>connOR HANsEn</td>\n",
              "      <td>75</td>\n",
              "      <td>Female</td>\n",
              "      <td>A+</td>\n",
              "      <td>Diabetes</td>\n",
              "      <td>2019-12-12</td>\n",
              "      <td>Kenneth Fletcher</td>\n",
              "      <td>Powers Miller, and Flores</td>\n",
              "      <td>Cigna</td>\n",
              "      <td>43282.283358</td>\n",
              "      <td>134</td>\n",
              "      <td>Emergency</td>\n",
              "      <td>2019-12-28</td>\n",
              "      <td>Penicillin</td>\n",
              "      <td>Abnormal</td>\n",
              "      <td>0.826885</td>\n",
              "    </tr>\n",
              "    <tr>\n",
              "      <th>27</th>\n",
              "      <td>mr. KenNEth MoORE</td>\n",
              "      <td>34</td>\n",
              "      <td>Female</td>\n",
              "      <td>A+</td>\n",
              "      <td>Diabetes</td>\n",
              "      <td>2022-06-21</td>\n",
              "      <td>James Ellis</td>\n",
              "      <td>Serrano-Dixon</td>\n",
              "      <td>UnitedHealthcare</td>\n",
              "      <td>18834.801341</td>\n",
              "      <td>157</td>\n",
              "      <td>Emergency</td>\n",
              "      <td>2022-06-30</td>\n",
              "      <td>Lipitor</td>\n",
              "      <td>Abnormal</td>\n",
              "      <td>0.380541</td>\n",
              "    </tr>\n",
              "    <tr>\n",
              "      <th>34</th>\n",
              "      <td>NicOlE RodriGUEz</td>\n",
              "      <td>30</td>\n",
              "      <td>Female</td>\n",
              "      <td>AB+</td>\n",
              "      <td>Diabetes</td>\n",
              "      <td>2020-01-17</td>\n",
              "      <td>Lynn Young</td>\n",
              "      <td>Poole Inc</td>\n",
              "      <td>Blue Cross</td>\n",
              "      <td>8408.949354</td>\n",
              "      <td>285</td>\n",
              "      <td>Emergency</td>\n",
              "      <td>2020-02-10</td>\n",
              "      <td>Lipitor</td>\n",
              "      <td>Normal</td>\n",
              "      <td>0.190194</td>\n",
              "    </tr>\n",
              "  </tbody>\n",
              "</table>\n",
              "</div>"
            ],
            "text/plain": [
              "                 Name  Age  Gender Blood Type Medical Condition  \\\n",
              "3        andrEw waTtS   28  Female         O+          Diabetes   \n",
              "6      edwArD EDWaRDs   21  Female        AB-          Diabetes   \n",
              "12      connOR HANsEn   75  Female         A+          Diabetes   \n",
              "27  mr. KenNEth MoORE   34  Female         A+          Diabetes   \n",
              "34   NicOlE RodriGUEz   30  Female        AB+          Diabetes   \n",
              "\n",
              "   Date of Admission            Doctor                    Hospital  \\\n",
              "3         2020-11-18       Kevin Wells  Hernandez Rogers and Vang,   \n",
              "6         2020-11-03       Kelly Olson             Group Middleton   \n",
              "12        2019-12-12  Kenneth Fletcher   Powers Miller, and Flores   \n",
              "27        2022-06-21       James Ellis               Serrano-Dixon   \n",
              "34        2020-01-17        Lynn Young                   Poole Inc   \n",
              "\n",
              "   Insurance Provider  Billing Amount  Room Number Admission Type  \\\n",
              "3            Medicare    37909.782410          450       Elective   \n",
              "6            Medicare    19580.872345          389      Emergency   \n",
              "12              Cigna    43282.283358          134      Emergency   \n",
              "27   UnitedHealthcare    18834.801341          157      Emergency   \n",
              "34         Blue Cross     8408.949354          285      Emergency   \n",
              "\n",
              "   Discharge Date   Medication  Test Results  Billing Amount_normalized  \n",
              "3      2020-12-18    Ibuprofen      Abnormal                   0.728798  \n",
              "6      2020-11-15  Paracetamol  Inconclusive                   0.394162  \n",
              "12     2019-12-28   Penicillin      Abnormal                   0.826885  \n",
              "27     2022-06-30      Lipitor      Abnormal                   0.380541  \n",
              "34     2020-02-10      Lipitor        Normal                   0.190194  "
            ]
          },
          "metadata": {},
          "output_type": "display_data"
        }
      ],
      "source": [
        "# Display selected data samples\n",
        "display(elderly_patients.head())\n",
        "display(high_billing.head())\n",
        "display(female_diabetes.head())"
      ]
    },
    {
      "cell_type": "markdown",
      "metadata": {
        "id": "VWoNddT3SZBy"
      },
      "source": [
        "## Data Analysis"
      ]
    },
    {
      "cell_type": "code",
      "execution_count": 11,
      "metadata": {
        "colab": {
          "base_uri": "https://localhost:8080/"
        },
        "id": "GSG0XsbZSccl",
        "outputId": "ddc4869b-7520-420f-9803-db461971071f"
      },
      "outputs": [
        {
          "name": "stdout",
          "output_type": "stream",
          "text": [
            "Descriptive Statistics:\n",
            "                Age  Billing Amount   Room Number  Billing Amount_normalized\n",
            "count  54966.000000    54966.000000  54966.000000               54966.000000\n",
            "mean      51.535185    25544.306284    301.124404                   0.503038\n",
            "std       19.605661    14208.409711    115.223143                   0.259406\n",
            "min       13.000000    -2008.492140    101.000000                   0.000000\n",
            "25%       35.000000    13243.718641    202.000000                   0.278463\n",
            "50%       52.000000    25542.749145    302.000000                   0.503010\n",
            "75%       68.000000    37819.858159    401.000000                   0.727156\n",
            "max       89.000000    52764.276736    500.000000                   1.000000\n"
          ]
        }
      ],
      "source": [
        "# Descriptive statistics for numerical columns\n",
        "print(\"Descriptive Statistics:\")\n",
        "print(df.describe())"
      ]
    },
    {
      "cell_type": "code",
      "execution_count": 12,
      "metadata": {
        "colab": {
          "base_uri": "https://localhost:8080/"
        },
        "id": "dqMW9BIsSpwD",
        "outputId": "6e4bfeb5-1032-4818-fc7c-22a7af4eeb5c"
      },
      "outputs": [
        {
          "name": "stdout",
          "output_type": "stream",
          "text": [
            "\n",
            "Medical Condition Distribution:\n",
            "Medical Condition\n",
            "Arthritis       9218\n",
            "Diabetes        9216\n",
            "Hypertension    9151\n",
            "Obesity         9146\n",
            "Cancer          9140\n",
            "Asthma          9095\n",
            "Name: count, dtype: int64\n"
          ]
        }
      ],
      "source": [
        "# Count of each medical condition\n",
        "print(\"\\nMedical Condition Distribution:\")\n",
        "print(df['Medical Condition'].value_counts())"
      ]
    },
    {
      "cell_type": "code",
      "execution_count": 13,
      "metadata": {
        "colab": {
          "base_uri": "https://localhost:8080/"
        },
        "id": "VRhOgrT5SuAx",
        "outputId": "be7479e6-77fd-4ff1-9387-beff26378b48"
      },
      "outputs": [
        {
          "name": "stdout",
          "output_type": "stream",
          "text": [
            "\n",
            "Average Billing Amount by Hospital:\n",
            "Hospital\n",
            "Hernandez-Morton                 52373.032374\n",
            "Walker-Garcia                    52170.036854\n",
            "Ruiz-Anthony                     52154.237722\n",
            "George-Gonzalez                  52102.240889\n",
            "Rocha-Carter                     52092.669896\n",
            "                                     ...     \n",
            "Hunter-Hughes                    -1018.245371\n",
            "Lawrence and Cooper Saunders,    -1129.997176\n",
            "Clements-Bowman                  -1277.645337\n",
            "Medina and Elliott Stewart,      -1316.618581\n",
            "Juarez-Clark                     -2008.492140\n",
            "Name: Billing Amount, Length: 39876, dtype: float64\n"
          ]
        }
      ],
      "source": [
        "# Average billing amount per hospital\n",
        "avg_billing_hospital = df.groupby('Hospital')['Billing Amount'].mean().sort_values(ascending=False)\n",
        "print(\"\\nAverage Billing Amount by Hospital:\")\n",
        "print(avg_billing_hospital)"
      ]
    },
    {
      "cell_type": "code",
      "execution_count": 14,
      "metadata": {
        "id": "FbcNqdSMSwBn"
      },
      "outputs": [],
      "source": [
        "# Convert date columns to datetime, handling potential errors\n",
        "date_cols = ['Date of Admission', 'Discharge Date']\n",
        "for col in date_cols:\n",
        "    df[col] = pd.to_datetime(df[col], errors='coerce')  # Coerce errors to NaT\n",
        "\n",
        "# Calculate length of stay, excluding rows with invalid dates\n",
        "df['Length of Stay'] = (df['Discharge Date'] - df['Date of Admission']).dt.days\n",
        "\n",
        "# Remove rows with NaT (Not a Time) values in 'Length of Stay' if needed\n",
        "df.dropna(subset=['Length of Stay'], inplace=True)"
      ]
    },
    {
      "cell_type": "code",
      "execution_count": 15,
      "metadata": {
        "colab": {
          "base_uri": "https://localhost:8080/"
        },
        "id": "5wv3TS6UTc3C",
        "outputId": "cb2f5af7-491c-4d14-fce7-29a2a39cb966"
      },
      "outputs": [
        {
          "name": "stdout",
          "output_type": "stream",
          "text": [
            "\n",
            "Average Length of Stay: 15.50 days\n"
          ]
        }
      ],
      "source": [
        "# Average length of stay in days\n",
        "df['Length of Stay'] = (df['Discharge Date'] - df['Date of Admission']).dt.days\n",
        "avg_stay = df['Length of Stay'].mean()\n",
        "print(f\"\\nAverage Length of Stay: {avg_stay:.2f} days\")"
      ]
    },
    {
      "cell_type": "markdown",
      "metadata": {
        "id": "ChHamJdkRxVs"
      },
      "source": [
        "## Data visulaization"
      ]
    },
    {
      "cell_type": "code",
      "execution_count": 16,
      "metadata": {
        "colab": {
          "base_uri": "https://localhost:8080/",
          "height": 407
        },
        "id": "B2qXcJceoBw5",
        "outputId": "529c550b-3713-4728-accd-baa598d37987"
      },
      "outputs": [
        {
          "data": {
            "image/png": "[encoded data removed]",
            "text/plain": [
              "<Figure size 800x400 with 2 Axes>"
            ]
          },
          "metadata": {},
          "output_type": "display_data"
        }
      ],
      "source": [
        "fig, (ax1, ax2) = plt.subplots(1, 2, figsize=(8, 4))\n",
        "\n",
        "# Age distribution\n",
        "sns.histplot(df['Age'], bins=20, kde=True, color='skyblue', ax=ax1)\n",
        "ax1.set_title('Age Distribution of Patients')\n",
        "ax1.set_xlabel('Age')\n",
        "ax1.set_ylabel('Count')\n",
        "\n",
        "# Gender distribution\n",
        "gender_counts = df['Gender'].value_counts()\n",
        "ax2.pie(gender_counts, labels=gender_counts.index, autopct='%1.1f%%',\n",
        "        colors=['lightcoral', 'lightskyblue'], startangle=90)\n",
        "ax2.set_title('Gender Distribution')\n",
        "\n",
        "plt.tight_layout()\n",
        "plt.show()\n"
      ]
    },
    {
      "cell_type": "code",
      "execution_count": 17,
      "metadata": {
        "colab": {
          "base_uri": "https://localhost:8080/",
          "height": 1000
        },
        "id": "0ntW6SiBswC8",
        "outputId": "000ed95d-b1fb-44a0-9053-94a6101ed31b"
      },
      "outputs": [
        {
          "data": {
            "image/png": "[encoded data removed]",
            "text/plain": [
              "<Figure size 800x500 with 1 Axes>"
            ]
          },
          "metadata": {},
          "output_type": "display_data"
        },
        {
          "name": "stderr",
          "output_type": "stream",
          "text": [
            "C:\\Users\\omara\\AppData\\Local\\Temp\\ipykernel_22876\\444975784.py:23: FutureWarning: \n",
            "\n",
            "Passing `palette` without assigning `hue` is deprecated and will be removed in v0.14.0. Assign the `x` variable to `hue` and set `legend=False` for the same effect.\n",
            "\n",
            "  sns.countplot(x='Admission Month', data=df, order=month_order, palette='Blues')\n"
          ]
        },
        {
          "data": {
            "image/png": "[encoded data removed]",
            "text/plain": [
              "<Figure size 800x500 with 1 Axes>"
            ]
          },
          "metadata": {},
          "output_type": "display_data"
        }
      ],
      "source": [
        "# Age groups\n",
        "bins = [0, 18, 35, 50, 65, float('inf')]\n",
        "labels = ['0-18', '19-35', '36-50', '51-65', '65+']\n",
        "df['Age_Group'] = pd.cut(df['Age'], bins=bins, labels=labels, right=False)\n",
        "\n",
        "# Medical condition by age group\n",
        "plt.figure(figsize=(8, 5))\n",
        "sns.countplot(x='Age_Group', hue='Medical Condition', data=df, palette='Blues')\n",
        "plt.title('Medical Condition by Age Group')\n",
        "plt.xlabel('Age Group')\n",
        "plt.ylabel('Count')\n",
        "plt.xticks(rotation=45)\n",
        "plt.legend(title='Medical Condition', bbox_to_anchor=(1.05, 1), loc='upper left')\n",
        "plt.tight_layout()\n",
        "plt.show()\n",
        "\n",
        "\n",
        "# Monthly admission trends\n",
        "df['Admission Month'] = df['Date of Admission'].dt.month_name()\n",
        "month_order = ['January', 'February', 'March', 'April', 'May', 'June',\n",
        "               'July', 'August', 'September', 'October', 'November', 'December']\n",
        "plt.figure(figsize=(8, 5))\n",
        "sns.countplot(x='Admission Month', data=df, order=month_order, palette='Blues')\n",
        "plt.title('Monthly Admission Trends')\n",
        "plt.xlabel('Month')\n",
        "plt.ylabel('Admission Count')\n",
        "plt.xticks(rotation=45)\n",
        "plt.show()\n"
      ]
    },
    {
      "cell_type": "markdown",
      "metadata": {
        "id": "JJ5pUmTSVfep"
      },
      "source": [
        "## Data training"
      ]
    },
    {
      "cell_type": "markdown",
      "metadata": {
        "id": "KCkYiFiGcOkw"
      },
      "source": [
        "### XGBClassifier training model"
      ]
    },
    {
      "cell_type": "markdown",
      "metadata": {},
      "source": [
        "#### Define Target & Select Features\n"
      ]
    },
    {
      "cell_type": "code",
      "execution_count": 18,
      "metadata": {},
      "outputs": [],
      "source": [
        "# Define target variable\n",
        "df['Condition_Label'] = df['Medical Condition']\n",
        "\n",
        "# Select features and drop rows with missing values\n",
        "features = ['Age', 'Gender', 'Blood Type', 'Billing Amount', 'Admission Type',\n",
        "            'Length of Stay', 'Medication', 'Test Results']\n",
        "df_model = df[features + ['Condition_Label']].dropna()\n"
      ]
    },
    {
      "cell_type": "markdown",
      "metadata": {},
      "source": [
        "#### Encode & Standardize Features"
      ]
    },
    {
      "cell_type": "code",
      "execution_count": 19,
      "metadata": {},
      "outputs": [
        {
          "name": "stderr",
          "output_type": "stream",
          "text": [
            "C:\\Users\\omara\\AppData\\Local\\Packages\\PythonSoftwareFoundation.Python.3.11_qbz5n2kfra8p0\\LocalCache\\local-packages\\Python311\\site-packages\\joblib\\externals\\loky\\backend\\context.py:136: UserWarning: Could not find the number of physical cores for the following reason:\n",
            "[WinError 2] The system cannot find the file specified\n",
            "Returning the number of logical cores instead. You can silence this warning by setting LOKY_MAX_CPU_COUNT to the number of cores you want to use.\n",
            "  warnings.warn(\n",
            "  File \"C:\\Users\\omara\\AppData\\Local\\Packages\\PythonSoftwareFoundation.Python.3.11_qbz5n2kfra8p0\\LocalCache\\local-packages\\Python311\\site-packages\\joblib\\externals\\loky\\backend\\context.py\", line 257, in _count_physical_cores\n",
            "    cpu_info = subprocess.run(\n",
            "               ^^^^^^^^^^^^^^^\n",
            "  File \"C:\\Program Files\\WindowsApps\\PythonSoftwareFoundation.Python.3.11_3.11.2544.0_x64__qbz5n2kfra8p0\\Lib\\subprocess.py\", line 548, in run\n",
            "    with Popen(*popenargs, **kwargs) as process:\n",
            "         ^^^^^^^^^^^^^^^^^^^^^^^^^^^\n",
            "  File \"C:\\Program Files\\WindowsApps\\PythonSoftwareFoundation.Python.3.11_3.11.2544.0_x64__qbz5n2kfra8p0\\Lib\\subprocess.py\", line 1026, in __init__\n",
            "    self._execute_child(args, executable, preexec_fn, close_fds,\n",
            "  File \"C:\\Program Files\\WindowsApps\\PythonSoftwareFoundation.Python.3.11_3.11.2544.0_x64__qbz5n2kfra8p0\\Lib\\subprocess.py\", line 1538, in _execute_child\n",
            "    hp, ht, pid, tid = _winapi.CreateProcess(executable, args,\n",
            "                       ^^^^^^^^^^^^^^^^^^^^^^^^^^^^^^^^^^^^^^^\n"
          ]
        },
        {
          "name": "stdout",
          "output_type": "stream",
          "text": [
            "✅ Data prepared: One-hot encoded, scaled, SMOTE applied, and label encoder saved.\n"
          ]
        }
      ],
      "source": [
        "import pandas as pd\n",
        "from sklearn.preprocessing import LabelEncoder, StandardScaler\n",
        "from imblearn.over_sampling import SMOTE\n",
        "import joblib\n",
        "\n",
        "# ✅ Step 0: Encode the target safely\n",
        "df = df.dropna(subset=[\"Medical Condition\"])  # Drop rows with missing labels\n",
        "\n",
        "# Encode Medical Condition as multiclass label\n",
        "label_encoder = LabelEncoder()\n",
        "df[\"Condition_Label\"] = label_encoder.fit_transform(df[\"Medical Condition\"])\n",
        "joblib.dump(label_encoder, \"label_encoder.pkl\")  # Save label encoder\n",
        "\n",
        "# ✅ Step 1: Load and prepare the data (features + multiclass target)\n",
        "df_model = df[[  # all selected features\n",
        "    'Age', 'Gender', 'Blood Type', 'Billing Amount', 'Admission Type',\n",
        "    'Length of Stay', 'Medication', 'Test Results', 'Condition_Label'\n",
        "]]\n",
        "\n",
        "# ✅ Step 2: Separate features and target\n",
        "X = df_model.drop(\"Condition_Label\", axis=1)\n",
        "y = df_model[\"Condition_Label\"]\n",
        "\n",
        "# ✅ Step 3: One-hot encode categorical features\n",
        "X_encoded = pd.get_dummies(X)\n",
        "joblib.dump(X_encoded.columns.tolist(), \"feature_columns.pkl\")  # Save for app input alignment\n",
        "\n",
        "# ✅ Step 4: Scale numerical features\n",
        "scaler = StandardScaler()\n",
        "X_scaled = scaler.fit_transform(X_encoded)\n",
        "joblib.dump(scaler, \"scaler.pkl\")  # Save for inference\n",
        "\n",
        "# ✅ Step 5: Apply SMOTE for class balance\n",
        "X_resampled, y_resampled = SMOTE(random_state=42).fit_resample(X_scaled, y)\n",
        "\n",
        "print(\"✅ Data prepared: One-hot encoded, scaled, SMOTE applied, and label encoder saved.\")\n"
      ]
    },
    {
      "cell_type": "markdown",
      "metadata": {},
      "source": [
        "#### Train XGBoost Model"
      ]
    },
    {
      "cell_type": "code",
      "execution_count": 20,
      "metadata": {},
      "outputs": [
        {
          "name": "stderr",
          "output_type": "stream",
          "text": [
            "C:\\Users\\omara\\AppData\\Local\\Packages\\PythonSoftwareFoundation.Python.3.11_qbz5n2kfra8p0\\LocalCache\\local-packages\\Python311\\site-packages\\xgboost\\training.py:183: UserWarning: [23:52:43] WARNING: C:\\actions-runner\\_work\\xgboost\\xgboost\\src\\learner.cc:738: \n",
            "Parameters: { \"use_label_encoder\" } are not used.\n",
            "\n",
            "  bst.update(dtrain, iteration=i, fobj=obj)\n"
          ]
        },
        {
          "data": {
            "text/html": [
              "<style>#sk-container-id-1 {\n",
              "  /* Definition of color scheme common for light and dark mode */\n",
              "  --sklearn-color-text: #000;\n",
              "  --sklearn-color-text-muted: #666;\n",
              "  --sklearn-color-line: gray;\n",
              "  /* Definition of color scheme for unfitted estimators */\n",
              "  --sklearn-color-unfitted-level-0: #fff5e6;\n",
              "  --sklearn-color-unfitted-level-1: #f6e4d2;\n",
              "  --sklearn-color-unfitted-level-2: #ffe0b3;\n",
              "  --sklearn-color-unfitted-level-3: chocolate;\n",
              "  /* Definition of color scheme for fitted estimators */\n",
              "  --sklearn-color-fitted-level-0: #f0f8ff;\n",
              "  --sklearn-color-fitted-level-1: #d4ebff;\n",
              "  --sklearn-color-fitted-level-2: #b3dbfd;\n",
              "  --sklearn-color-fitted-level-3: cornflowerblue;\n",
              "\n",
              "  /* Specific color for light theme */\n",
              "  --sklearn-color-text-on-default-background: var(--sg-text-color, var(--theme-code-foreground, var(--jp-content-font-color1, black)));\n",
              "  --sklearn-color-background: var(--sg-background-color, var(--theme-background, var(--jp-layout-color0, white)));\n",
              "  --sklearn-color-border-box: var(--sg-text-color, var(--theme-code-foreground, var(--jp-content-font-color1, black)));\n",
              "  --sklearn-color-icon: #696969;\n",
              "\n",
              "  @media (prefers-color-scheme: dark) {\n",
              "    /* Redefinition of color scheme for dark theme */\n",
              "    --sklearn-color-text-on-default-background: var(--sg-text-color, var(--theme-code-foreground, var(--jp-content-font-color1, white)));\n",
              "    --sklearn-color-background: var(--sg-background-color, var(--theme-background, var(--jp-layout-color0, #111)));\n",
              "    --sklearn-color-border-box: var(--sg-text-color, var(--theme-code-foreground, var(--jp-content-font-color1, white)));\n",
              "    --sklearn-color-icon: #878787;\n",
              "  }\n",
              "}\n",
              "\n",
              "#sk-container-id-1 {\n",
              "  color: var(--sklearn-color-text);\n",
              "}\n",
              "\n",
              "#sk-container-id-1 pre {\n",
              "  padding: 0;\n",
              "}\n",
              "\n",
              "#sk-container-id-1 input.sk-hidden--visually {\n",
              "  border: 0;\n",
              "  clip: rect(1px 1px 1px 1px);\n",
              "  clip: rect(1px, 1px, 1px, 1px);\n",
              "  height: 1px;\n",
              "  margin: -1px;\n",
              "  overflow: hidden;\n",
              "  padding: 0;\n",
              "  position: absolute;\n",
              "  width: 1px;\n",
              "}\n",
              "\n",
              "#sk-container-id-1 div.sk-dashed-wrapped {\n",
              "  border: 1px dashed var(--sklearn-color-line);\n",
              "  margin: 0 0.4em 0.5em 0.4em;\n",
              "  box-sizing: border-box;\n",
              "  padding-bottom: 0.4em;\n",
              "  background-color: var(--sklearn-color-background);\n",
              "}\n",
              "\n",
              "#sk-container-id-1 div.sk-container {\n",
              "  /* jupyter's `normalize.less` sets `[hidden] { display: none; }`\n",
              "     but bootstrap.min.css set `[hidden] { display: none !important; }`\n",
              "     so we also need the `!important` here to be able to override the\n",
              "     default hidden behavior on the sphinx rendered scikit-learn.org.\n",
              "     See: https://github.com/scikit-learn/scikit-learn/issues/21755 */\n",
              "  display: inline-block !important;\n",
              "  position: relative;\n",
              "}\n",
              "\n",
              "#sk-container-id-1 div.sk-text-repr-fallback {\n",
              "  display: none;\n",
              "}\n",
              "\n",
              "div.sk-parallel-item,\n",
              "div.sk-serial,\n",
              "div.sk-item {\n",
              "  /* draw centered vertical line to link estimators */\n",
              "  background-image: linear-gradient(var(--sklearn-color-text-on-default-background), var(--sklearn-color-text-on-default-background));\n",
              "  background-size: 2px 100%;\n",
              "  background-repeat: no-repeat;\n",
              "  background-position: center center;\n",
              "}\n",
              "\n",
              "/* Parallel-specific style estimator block */\n",
              "\n",
              "#sk-container-id-1 div.sk-parallel-item::after {\n",
              "  content: \"\";\n",
              "  width: 100%;\n",
              "  border-bottom: 2px solid var(--sklearn-color-text-on-default-background);\n",
              "  flex-grow: 1;\n",
              "}\n",
              "\n",
              "#sk-container-id-1 div.sk-parallel {\n",
              "  display: flex;\n",
              "  align-items: stretch;\n",
              "  justify-content: center;\n",
              "  background-color: var(--sklearn-color-background);\n",
              "  position: relative;\n",
              "}\n",
              "\n",
              "#sk-container-id-1 div.sk-parallel-item {\n",
              "  display: flex;\n",
              "  flex-direction: column;\n",
              "}\n",
              "\n",
              "#sk-container-id-1 div.sk-parallel-item:first-child::after {\n",
              "  align-self: flex-end;\n",
              "  width: 50%;\n",
              "}\n",
              "\n",
              "#sk-container-id-1 div.sk-parallel-item:last-child::after {\n",
              "  align-self: flex-start;\n",
              "  width: 50%;\n",
              "}\n",
              "\n",
              "#sk-container-id-1 div.sk-parallel-item:only-child::after {\n",
              "  width: 0;\n",
              "}\n",
              "\n",
              "/* Serial-specific style estimator block */\n",
              "\n",
              "#sk-container-id-1 div.sk-serial {\n",
              "  display: flex;\n",
              "  flex-direction: column;\n",
              "  align-items: center;\n",
              "  background-color: var(--sklearn-color-background);\n",
              "  padding-right: 1em;\n",
              "  padding-left: 1em;\n",
              "}\n",
              "\n",
              "\n",
              "/* Toggleable style: style used for estimator/Pipeline/ColumnTransformer box that is\n",
              "clickable and can be expanded/collapsed.\n",
              "- Pipeline and ColumnTransformer use this feature and define the default style\n",
              "- Estimators will overwrite some part of the style using the `sk-estimator` class\n",
              "*/\n",
              "\n",
              "/* Pipeline and ColumnTransformer style (default) */\n",
              "\n",
              "#sk-container-id-1 div.sk-toggleable {\n",
              "  /* Default theme specific background. It is overwritten whether we have a\n",
              "  specific estimator or a Pipeline/ColumnTransformer */\n",
              "  background-color: var(--sklearn-color-background);\n",
              "}\n",
              "\n",
              "/* Toggleable label */\n",
              "#sk-container-id-1 label.sk-toggleable__label {\n",
              "  cursor: pointer;\n",
              "  display: flex;\n",
              "  width: 100%;\n",
              "  margin-bottom: 0;\n",
              "  padding: 0.5em;\n",
              "  box-sizing: border-box;\n",
              "  text-align: center;\n",
              "  align-items: start;\n",
              "  justify-content: space-between;\n",
              "  gap: 0.5em;\n",
              "}\n",
              "\n",
              "#sk-container-id-1 label.sk-toggleable__label .caption {\n",
              "  font-size: 0.6rem;\n",
              "  font-weight: lighter;\n",
              "  color: var(--sklearn-color-text-muted);\n",
              "}\n",
              "\n",
              "#sk-container-id-1 label.sk-toggleable__label-arrow:before {\n",
              "  /* Arrow on the left of the label */\n",
              "  content: \"▸\";\n",
              "  float: left;\n",
              "  margin-right: 0.25em;\n",
              "  color: var(--sklearn-color-icon);\n",
              "}\n",
              "\n",
              "#sk-container-id-1 label.sk-toggleable__label-arrow:hover:before {\n",
              "  color: var(--sklearn-color-text);\n",
              "}\n",
              "\n",
              "/* Toggleable content - dropdown */\n",
              "\n",
              "#sk-container-id-1 div.sk-toggleable__content {\n",
              "  max-height: 0;\n",
              "  max-width: 0;\n",
              "  overflow: hidden;\n",
              "  text-align: left;\n",
              "  /* unfitted */\n",
              "  background-color: var(--sklearn-color-unfitted-level-0);\n",
              "}\n",
              "\n",
              "#sk-container-id-1 div.sk-toggleable__content.fitted {\n",
              "  /* fitted */\n",
              "  background-color: var(--sklearn-color-fitted-level-0);\n",
              "}\n",
              "\n",
              "#sk-container-id-1 div.sk-toggleable__content pre {\n",
              "  margin: 0.2em;\n",
              "  border-radius: 0.25em;\n",
              "  color: var(--sklearn-color-text);\n",
              "  /* unfitted */\n",
              "  background-color: var(--sklearn-color-unfitted-level-0);\n",
              "}\n",
              "\n",
              "#sk-container-id-1 div.sk-toggleable__content.fitted pre {\n",
              "  /* unfitted */\n",
              "  background-color: var(--sklearn-color-fitted-level-0);\n",
              "}\n",
              "\n",
              "#sk-container-id-1 input.sk-toggleable__control:checked~div.sk-toggleable__content {\n",
              "  /* Expand drop-down */\n",
              "  max-height: 200px;\n",
              "  max-width: 100%;\n",
              "  overflow: auto;\n",
              "}\n",
              "\n",
              "#sk-container-id-1 input.sk-toggleable__control:checked~label.sk-toggleable__label-arrow:before {\n",
              "  content: \"▾\";\n",
              "}\n",
              "\n",
              "/* Pipeline/ColumnTransformer-specific style */\n",
              "\n",
              "#sk-container-id-1 div.sk-label input.sk-toggleable__control:checked~label.sk-toggleable__label {\n",
              "  color: var(--sklearn-color-text);\n",
              "  background-color: var(--sklearn-color-unfitted-level-2);\n",
              "}\n",
              "\n",
              "#sk-container-id-1 div.sk-label.fitted input.sk-toggleable__control:checked~label.sk-toggleable__label {\n",
              "  background-color: var(--sklearn-color-fitted-level-2);\n",
              "}\n",
              "\n",
              "/* Estimator-specific style */\n",
              "\n",
              "/* Colorize estimator box */\n",
              "#sk-container-id-1 div.sk-estimator input.sk-toggleable__control:checked~label.sk-toggleable__label {\n",
              "  /* unfitted */\n",
              "  background-color: var(--sklearn-color-unfitted-level-2);\n",
              "}\n",
              "\n",
              "#sk-container-id-1 div.sk-estimator.fitted input.sk-toggleable__control:checked~label.sk-toggleable__label {\n",
              "  /* fitted */\n",
              "  background-color: var(--sklearn-color-fitted-level-2);\n",
              "}\n",
              "\n",
              "#sk-container-id-1 div.sk-label label.sk-toggleable__label,\n",
              "#sk-container-id-1 div.sk-label label {\n",
              "  /* The background is the default theme color */\n",
              "  color: var(--sklearn-color-text-on-default-background);\n",
              "}\n",
              "\n",
              "/* On hover, darken the color of the background */\n",
              "#sk-container-id-1 div.sk-label:hover label.sk-toggleable__label {\n",
              "  color: var(--sklearn-color-text);\n",
              "  background-color: var(--sklearn-color-unfitted-level-2);\n",
              "}\n",
              "\n",
              "/* Label box, darken color on hover, fitted */\n",
              "#sk-container-id-1 div.sk-label.fitted:hover label.sk-toggleable__label.fitted {\n",
              "  color: var(--sklearn-color-text);\n",
              "  background-color: var(--sklearn-color-fitted-level-2);\n",
              "}\n",
              "\n",
              "/* Estimator label */\n",
              "\n",
              "#sk-container-id-1 div.sk-label label {\n",
              "  font-family: monospace;\n",
              "  font-weight: bold;\n",
              "  display: inline-block;\n",
              "  line-height: 1.2em;\n",
              "}\n",
              "\n",
              "#sk-container-id-1 div.sk-label-container {\n",
              "  text-align: center;\n",
              "}\n",
              "\n",
              "/* Estimator-specific */\n",
              "#sk-container-id-1 div.sk-estimator {\n",
              "  font-family: monospace;\n",
              "  border: 1px dotted var(--sklearn-color-border-box);\n",
              "  border-radius: 0.25em;\n",
              "  box-sizing: border-box;\n",
              "  margin-bottom: 0.5em;\n",
              "  /* unfitted */\n",
              "  background-color: var(--sklearn-color-unfitted-level-0);\n",
              "}\n",
              "\n",
              "#sk-container-id-1 div.sk-estimator.fitted {\n",
              "  /* fitted */\n",
              "  background-color: var(--sklearn-color-fitted-level-0);\n",
              "}\n",
              "\n",
              "/* on hover */\n",
              "#sk-container-id-1 div.sk-estimator:hover {\n",
              "  /* unfitted */\n",
              "  background-color: var(--sklearn-color-unfitted-level-2);\n",
              "}\n",
              "\n",
              "#sk-container-id-1 div.sk-estimator.fitted:hover {\n",
              "  /* fitted */\n",
              "  background-color: var(--sklearn-color-fitted-level-2);\n",
              "}\n",
              "\n",
              "/* Specification for estimator info (e.g. \"i\" and \"?\") */\n",
              "\n",
              "/* Common style for \"i\" and \"?\" */\n",
              "\n",
              ".sk-estimator-doc-link,\n",
              "a:link.sk-estimator-doc-link,\n",
              "a:visited.sk-estimator-doc-link {\n",
              "  float: right;\n",
              "  font-size: smaller;\n",
              "  line-height: 1em;\n",
              "  font-family: monospace;\n",
              "  background-color: var(--sklearn-color-background);\n",
              "  border-radius: 1em;\n",
              "  height: 1em;\n",
              "  width: 1em;\n",
              "  text-decoration: none !important;\n",
              "  margin-left: 0.5em;\n",
              "  text-align: center;\n",
              "  /* unfitted */\n",
              "  border: var(--sklearn-color-unfitted-level-1) 1pt solid;\n",
              "  color: var(--sklearn-color-unfitted-level-1);\n",
              "}\n",
              "\n",
              ".sk-estimator-doc-link.fitted,\n",
              "a:link.sk-estimator-doc-link.fitted,\n",
              "a:visited.sk-estimator-doc-link.fitted {\n",
              "  /* fitted */\n",
              "  border: var(--sklearn-color-fitted-level-1) 1pt solid;\n",
              "  color: var(--sklearn-color-fitted-level-1);\n",
              "}\n",
              "\n",
              "/* On hover */\n",
              "div.sk-estimator:hover .sk-estimator-doc-link:hover,\n",
              ".sk-estimator-doc-link:hover,\n",
              "div.sk-label-container:hover .sk-estimator-doc-link:hover,\n",
              ".sk-estimator-doc-link:hover {\n",
              "  /* unfitted */\n",
              "  background-color: var(--sklearn-color-unfitted-level-3);\n",
              "  color: var(--sklearn-color-background);\n",
              "  text-decoration: none;\n",
              "}\n",
              "\n",
              "div.sk-estimator.fitted:hover .sk-estimator-doc-link.fitted:hover,\n",
              ".sk-estimator-doc-link.fitted:hover,\n",
              "div.sk-label-container:hover .sk-estimator-doc-link.fitted:hover,\n",
              ".sk-estimator-doc-link.fitted:hover {\n",
              "  /* fitted */\n",
              "  background-color: var(--sklearn-color-fitted-level-3);\n",
              "  color: var(--sklearn-color-background);\n",
              "  text-decoration: none;\n",
              "}\n",
              "\n",
              "/* Span, style for the box shown on hovering the info icon */\n",
              ".sk-estimator-doc-link span {\n",
              "  display: none;\n",
              "  z-index: 9999;\n",
              "  position: relative;\n",
              "  font-weight: normal;\n",
              "  right: .2ex;\n",
              "  padding: .5ex;\n",
              "  margin: .5ex;\n",
              "  width: min-content;\n",
              "  min-width: 20ex;\n",
              "  max-width: 50ex;\n",
              "  color: var(--sklearn-color-text);\n",
              "  box-shadow: 2pt 2pt 4pt #999;\n",
              "  /* unfitted */\n",
              "  background: var(--sklearn-color-unfitted-level-0);\n",
              "  border: .5pt solid var(--sklearn-color-unfitted-level-3);\n",
              "}\n",
              "\n",
              ".sk-estimator-doc-link.fitted span {\n",
              "  /* fitted */\n",
              "  background: var(--sklearn-color-fitted-level-0);\n",
              "  border: var(--sklearn-color-fitted-level-3);\n",
              "}\n",
              "\n",
              ".sk-estimator-doc-link:hover span {\n",
              "  display: block;\n",
              "}\n",
              "\n",
              "/* \"?\"-specific style due to the `<a>` HTML tag */\n",
              "\n",
              "#sk-container-id-1 a.estimator_doc_link {\n",
              "  float: right;\n",
              "  font-size: 1rem;\n",
              "  line-height: 1em;\n",
              "  font-family: monospace;\n",
              "  background-color: var(--sklearn-color-background);\n",
              "  border-radius: 1rem;\n",
              "  height: 1rem;\n",
              "  width: 1rem;\n",
              "  text-decoration: none;\n",
              "  /* unfitted */\n",
              "  color: var(--sklearn-color-unfitted-level-1);\n",
              "  border: var(--sklearn-color-unfitted-level-1) 1pt solid;\n",
              "}\n",
              "\n",
              "#sk-container-id-1 a.estimator_doc_link.fitted {\n",
              "  /* fitted */\n",
              "  border: var(--sklearn-color-fitted-level-1) 1pt solid;\n",
              "  color: var(--sklearn-color-fitted-level-1);\n",
              "}\n",
              "\n",
              "/* On hover */\n",
              "#sk-container-id-1 a.estimator_doc_link:hover {\n",
              "  /* unfitted */\n",
              "  background-color: var(--sklearn-color-unfitted-level-3);\n",
              "  color: var(--sklearn-color-background);\n",
              "  text-decoration: none;\n",
              "}\n",
              "\n",
              "#sk-container-id-1 a.estimator_doc_link.fitted:hover {\n",
              "  /* fitted */\n",
              "  background-color: var(--sklearn-color-fitted-level-3);\n",
              "}\n",
              "</style><div id=\"sk-container-id-1\" class=\"sk-top-container\"><div class=\"sk-text-repr-fallback\"><pre>XGBClassifier(base_score=None, booster=None, callbacks=None,\n",
              "              colsample_bylevel=None, colsample_bynode=None,\n",
              "              colsample_bytree=None, device=None, early_stopping_rounds=None,\n",
              "              enable_categorical=False, eval_metric=&#x27;mlogloss&#x27;,\n",
              "              feature_types=None, feature_weights=None, gamma=None,\n",
              "              grow_policy=None, importance_type=None,\n",
              "              interaction_constraints=None, learning_rate=None, max_bin=None,\n",
              "              max_cat_threshold=None, max_cat_to_onehot=None,\n",
              "              max_delta_step=None, max_depth=None, max_leaves=None,\n",
              "              min_child_weight=None, missing=nan, monotone_constraints=None,\n",
              "              multi_strategy=None, n_estimators=None, n_jobs=None, num_class=6, ...)</pre><b>In a Jupyter environment, please rerun this cell to show the HTML representation or trust the notebook. <br />On GitHub, the HTML representation is unable to render, please try loading this page with nbviewer.org.</b></div><div class=\"sk-container\" hidden><div class=\"sk-item\"><div class=\"sk-estimator fitted sk-toggleable\"><input class=\"sk-toggleable__control sk-hidden--visually\" id=\"sk-estimator-id-1\" type=\"checkbox\" checked><label for=\"sk-estimator-id-1\" class=\"sk-toggleable__label fitted sk-toggleable__label-arrow\"><div><div>XGBClassifier</div></div><div><a class=\"sk-estimator-doc-link fitted\" rel=\"noreferrer\" target=\"_blank\" href=\"https://xgboost.readthedocs.io/en/release_3.0.0/python/python_api.html#xgboost.XGBClassifier\">?<span>Documentation for XGBClassifier</span></a><span class=\"sk-estimator-doc-link fitted\">i<span>Fitted</span></span></div></label><div class=\"sk-toggleable__content fitted\"><pre>XGBClassifier(base_score=None, booster=None, callbacks=None,\n",
              "              colsample_bylevel=None, colsample_bynode=None,\n",
              "              colsample_bytree=None, device=None, early_stopping_rounds=None,\n",
              "              enable_categorical=False, eval_metric=&#x27;mlogloss&#x27;,\n",
              "              feature_types=None, feature_weights=None, gamma=None,\n",
              "              grow_policy=None, importance_type=None,\n",
              "              interaction_constraints=None, learning_rate=None, max_bin=None,\n",
              "              max_cat_threshold=None, max_cat_to_onehot=None,\n",
              "              max_delta_step=None, max_depth=None, max_leaves=None,\n",
              "              min_child_weight=None, missing=nan, monotone_constraints=None,\n",
              "              multi_strategy=None, n_estimators=None, n_jobs=None, num_class=6, ...)</pre></div> </div></div></div></div>"
            ],
            "text/plain": [
              "XGBClassifier(base_score=None, booster=None, callbacks=None,\n",
              "              colsample_bylevel=None, colsample_bynode=None,\n",
              "              colsample_bytree=None, device=None, early_stopping_rounds=None,\n",
              "              enable_categorical=False, eval_metric='mlogloss',\n",
              "              feature_types=None, feature_weights=None, gamma=None,\n",
              "              grow_policy=None, importance_type=None,\n",
              "              interaction_constraints=None, learning_rate=None, max_bin=None,\n",
              "              max_cat_threshold=None, max_cat_to_onehot=None,\n",
              "              max_delta_step=None, max_depth=None, max_leaves=None,\n",
              "              min_child_weight=None, missing=nan, monotone_constraints=None,\n",
              "              multi_strategy=None, n_estimators=None, n_jobs=None, num_class=6, ...)"
            ]
          },
          "execution_count": 20,
          "metadata": {},
          "output_type": "execute_result"
        }
      ],
      "source": [
        "from xgboost import XGBClassifier\n",
        "from sklearn.model_selection import train_test_split\n",
        "import numpy as np\n",
        "\n",
        "# ✅ Train-test split\n",
        "X_train, X_test, y_train, y_test = train_test_split(\n",
        "    X_resampled, y_resampled, test_size=0.2, random_state=42, stratify=y_resampled\n",
        ")\n",
        "\n",
        "# ✅ Determine number of unique classes\n",
        "num_classes = len(np.unique(y_resampled))\n",
        "\n",
        "# ✅ Train XGBoost with proper multiclass settings\n",
        "model = XGBClassifier(\n",
        "    objective='multi:softprob',       # Multiclass probability output\n",
        "    num_class=num_classes,            # Total number of distinct condition labels\n",
        "    use_label_encoder=False,          # Don't use legacy encoder\n",
        "    eval_metric='mlogloss',           # Suitable for multiclass classification\n",
        "    random_state=42\n",
        ")\n",
        "\n",
        "model.fit(X_train, y_train)\n"
      ]
    },
    {
      "cell_type": "markdown",
      "metadata": {},
      "source": [
        "#### Evaluate the Model"
      ]
    },
    {
      "cell_type": "code",
      "execution_count": 21,
      "metadata": {},
      "outputs": [
        {
          "name": "stdout",
          "output_type": "stream",
          "text": [
            "Confusion Matrix:\n",
            " [[357 294 314 267 292 319]\n",
            " [285 380 298 295 285 300]\n",
            " [297 340 364 280 261 302]\n",
            " [280 292 303 365 295 309]\n",
            " [298 297 293 332 330 294]\n",
            " [324 266 310 246 299 399]]\n",
            "\n",
            "Classification Report:\n",
            "               precision    recall  f1-score   support\n",
            "\n",
            "           0       0.19      0.19      0.19      1843\n",
            "           1       0.20      0.21      0.20      1843\n",
            "           2       0.19      0.20      0.20      1844\n",
            "           3       0.20      0.20      0.20      1844\n",
            "           4       0.19      0.18      0.18      1844\n",
            "           5       0.21      0.22      0.21      1844\n",
            "\n",
            "    accuracy                           0.20     11062\n",
            "   macro avg       0.20      0.20      0.20     11062\n",
            "weighted avg       0.20      0.20      0.20     11062\n",
            "\n",
            "Accuracy: 0.20\n",
            "ROC AUC (OvR): 0.53\n"
          ]
        }
      ],
      "source": [
        "\n",
        "# Make predictions and class probabilities\n",
        "y_pred = model.predict(X_test)\n",
        "y_proba = model.predict_proba(X_test)\n",
        "\n",
        "# Evaluation\n",
        "print(\"Confusion Matrix:\\n\", confusion_matrix(y_test, y_pred))\n",
        "print(\"\\nClassification Report:\\n\", classification_report(y_test, y_pred))\n",
        "print(f\"Accuracy: {accuracy_score(y_test, y_pred):.2f}\")\n",
        "\n",
        "# Multiclass ROC AUC using One-vs-Rest strategy\n",
        "roc_auc = roc_auc_score(y_test, y_proba, multi_class='ovr')\n",
        "print(f\"ROC AUC (OvR): {roc_auc:.2f}\")\n"
      ]
    },
    {
      "cell_type": "markdown",
      "metadata": {},
      "source": [
        "#### saving XGBoost model "
      ]
    },
    {
      "cell_type": "code",
      "execution_count": 22,
      "metadata": {},
      "outputs": [
        {
          "data": {
            "text/plain": [
              "['xgb_diabetes_model.pkl']"
            ]
          },
          "execution_count": 22,
          "metadata": {},
          "output_type": "execute_result"
        }
      ],
      "source": [
        "joblib.dump(model, \"xgb_diabetes_model.pkl\")\n"
      ]
    },
    {
      "cell_type": "markdown",
      "metadata": {},
      "source": [
        "#### plotting"
      ]
    },
    {
      "cell_type": "code",
      "execution_count": 23,
      "metadata": {
        "colab": {
          "base_uri": "https://localhost:8080/",
          "height": 391
        },
        "id": "hHzSO1p-iYwA",
        "outputId": "53145b17-671f-4d23-b736-5f2950b43824"
      },
      "outputs": [
        {
          "data": {
            "image/png": "[encoded data removed]",
            "text/plain": [
              "<Figure size 800x600 with 2 Axes>"
            ]
          },
          "metadata": {},
          "output_type": "display_data"
        }
      ],
      "source": [
        "import matplotlib.pyplot as plt\n",
        "import seaborn as sns\n",
        "\n",
        "# Load label encoder (you already saved it earlier)\n",
        "label_encoder = joblib.load(\"label_encoder.pkl\")\n",
        "class_names = label_encoder.classes_\n",
        "\n",
        "# Plot confusion matrix\n",
        "plt.figure(figsize=(8, 6))\n",
        "plt.title('Confusion Matrix (Multiclass)')\n",
        "sns.heatmap(confusion_matrix(y_test, y_pred),\n",
        "            annot=True, fmt='d', cmap='Blues',\n",
        "            xticklabels=class_names,\n",
        "            yticklabels=class_names)\n",
        "plt.xlabel(\"Predicted\")\n",
        "plt.ylabel(\"Actual\")\n",
        "plt.tight_layout()\n",
        "plt.show()\n"
      ]
    },
    {
      "cell_type": "code",
      "execution_count": 24,
      "metadata": {
        "colab": {
          "base_uri": "https://localhost:8080/",
          "height": 487
        },
        "id": "RPF_dW7XjE8w",
        "outputId": "1e5609be-ebe0-42ea-c5df-dfbef1b29d1f"
      },
      "outputs": [
        {
          "data": {
            "image/png": "[encoded data removed]",
            "text/plain": [
              "<Figure size 1000x500 with 1 Axes>"
            ]
          },
          "metadata": {},
          "output_type": "display_data"
        }
      ],
      "source": [
        "from sklearn.metrics import classification_report\n",
        "import numpy as np\n",
        "import matplotlib.pyplot as plt\n",
        "import joblib\n",
        "\n",
        "# Classification report as dict\n",
        "report_dict = classification_report(y_test, y_pred, output_dict=True)\n",
        "\n",
        "# Load label encoder to get proper class labels\n",
        "label_encoder = joblib.load(\"label_encoder.pkl\")\n",
        "classes = label_encoder.classes_\n",
        "\n",
        "# Extract scores\n",
        "precision = [report_dict[str(i)]['precision'] for i in range(len(classes))]\n",
        "recall = [report_dict[str(i)]['recall'] for i in range(len(classes))]\n",
        "f1_score = [report_dict[str(i)]['f1-score'] for i in range(len(classes))]\n",
        "\n",
        "# Plot\n",
        "x = np.arange(len(classes))\n",
        "width = 0.2\n",
        "\n",
        "fig, ax = plt.subplots(figsize=(10, 5))\n",
        "rects1 = ax.bar(x - width, precision, width, label='Precision')\n",
        "rects2 = ax.bar(x, recall, width, label='Recall')\n",
        "rects3 = ax.bar(x + width, f1_score, width, label='F1-Score')\n",
        "\n",
        "ax.set_ylabel('Scores')\n",
        "ax.set_title('Classification Report (Per Condition)')\n",
        "ax.set_xticks(x)\n",
        "ax.set_xticklabels(classes, rotation=45)\n",
        "ax.legend()\n",
        "fig.tight_layout()\n",
        "plt.show()\n"
      ]
    },
    {
      "cell_type": "code",
      "execution_count": 25,
      "metadata": {
        "colab": {
          "base_uri": "https://localhost:8080/",
          "height": 314
        },
        "id": "gMpRrLt4lNSD",
        "outputId": "1b350af2-f5f0-44fd-9f90-0f1d3554a808"
      },
      "outputs": [
        {
          "data": {
            "image/png": "[encoded data removed]",
            "text/plain": [
              "<Figure size 400x300 with 1 Axes>"
            ]
          },
          "metadata": {},
          "output_type": "display_data"
        }
      ],
      "source": [
        "from sklearn.metrics import accuracy_score\n",
        "import matplotlib.pyplot as plt\n",
        "\n",
        "# Accuracy score\n",
        "accuracy = accuracy_score(y_test, y_pred)\n",
        "\n",
        "# Plot\n",
        "plt.figure(figsize=(4, 3))\n",
        "plt.bar(['Accuracy'], [accuracy], color='skyblue')\n",
        "plt.ylim([0, 1.1])  # Leave room for label\n",
        "plt.ylabel('Accuracy')\n",
        "plt.title('Model Accuracy')\n",
        "plt.text(0, min(accuracy + 0.03, 1.05), f'{accuracy:.2f}', ha='center', va='bottom', fontsize=12)\n",
        "plt.tight_layout()\n",
        "plt.show()\n"
      ]
    },
    {
      "cell_type": "markdown",
      "metadata": {
        "id": "pNT4lgrXcZGc"
      },
      "source": [
        "### Random Forest Classifier"
      ]
    },
    {
      "cell_type": "markdown",
      "metadata": {},
      "source": [
        "#### Split and Train the Model"
      ]
    },
    {
      "cell_type": "code",
      "execution_count": 26,
      "metadata": {},
      "outputs": [
        {
          "name": "stdout",
          "output_type": "stream",
          "text": [
            "✅ Random Forest model saved.\n"
          ]
        }
      ],
      "source": [
        "\n",
        "\n",
        "# Train Random Forest on dummy-encoded, scaled, and SMOTE-balanced data\n",
        "rf_model = RandomForestClassifier(n_estimators=100, random_state=42)\n",
        "rf_model.fit(X_resampled, y_resampled)\n",
        "\n",
        "# Save the model\n",
        "joblib.dump(rf_model, \"diabetes_rf_model.pkl\")\n",
        "print(\"✅ Random Forest model saved.\")\n"
      ]
    },
    {
      "cell_type": "markdown",
      "metadata": {},
      "source": [
        "#### Predict and Evaluate"
      ]
    },
    {
      "cell_type": "code",
      "execution_count": 27,
      "metadata": {},
      "outputs": [
        {
          "name": "stdout",
          "output_type": "stream",
          "text": [
            "✅ Evaluation of Random Forest:\n",
            "[[1834    0    0    0    0    0]\n",
            " [   0 1898    0    0    0    0]\n",
            " [   0    0 1795    0    0    0]\n",
            " [   0    0    0 1893    0    0]\n",
            " [   0    0    0    0 1812    0]\n",
            " [   0    0    0    0    0 1830]]\n",
            "              precision    recall  f1-score   support\n",
            "\n",
            "           0       1.00      1.00      1.00      1834\n",
            "           1       1.00      1.00      1.00      1898\n",
            "           2       1.00      1.00      1.00      1795\n",
            "           3       1.00      1.00      1.00      1893\n",
            "           4       1.00      1.00      1.00      1812\n",
            "           5       1.00      1.00      1.00      1830\n",
            "\n",
            "    accuracy                           1.00     11062\n",
            "   macro avg       1.00      1.00      1.00     11062\n",
            "weighted avg       1.00      1.00      1.00     11062\n",
            "\n",
            "Accuracy: 1.00\n"
          ]
        }
      ],
      "source": [
        "\n",
        "# Optional: Train-test split from resampled data (for testing)\n",
        "from sklearn.model_selection import train_test_split\n",
        "X_train, X_test, y_train, y_test = train_test_split(\n",
        "    X_resampled, y_resampled, test_size=0.2, random_state=42)\n",
        "\n",
        "# Predict on test set\n",
        "y_pred = rf_model.predict(X_test)\n",
        "\n",
        "# Evaluate\n",
        "print(\"✅ Evaluation of Random Forest:\")\n",
        "print(confusion_matrix(y_test, y_pred))\n",
        "print(classification_report(y_test, y_pred))\n",
        "print(f\"Accuracy: {accuracy_score(y_test, y_pred):.2f}\")\n"
      ]
    },
    {
      "cell_type": "markdown",
      "metadata": {},
      "source": [
        "#### saving random forrest model "
      ]
    },
    {
      "cell_type": "code",
      "execution_count": 28,
      "metadata": {},
      "outputs": [
        {
          "name": "stdout",
          "output_type": "stream",
          "text": [
            "✅ Random Forest model saved.\n"
          ]
        }
      ],
      "source": [
        "# Save the correct Random Forest model trained on dummy-encoded + SMOTE data\n",
        "joblib.dump(rf_model, \"diabetes_rf_model.pkl\")\n",
        "print(\"✅ Random Forest model saved.\")\n"
      ]
    },
    {
      "cell_type": "markdown",
      "metadata": {},
      "source": [
        "#### plotting "
      ]
    },
    {
      "cell_type": "code",
      "execution_count": 29,
      "metadata": {
        "colab": {
          "base_uri": "https://localhost:8080/",
          "height": 391
        },
        "id": "iIBQCEhVmF0x",
        "outputId": "5e1082a1-2c82-4229-afc5-59c4587a4386"
      },
      "outputs": [
        {
          "data": {
            "image/png": "[encoded data removed]",
            "text/plain": [
              "<Figure size 800x600 with 2 Axes>"
            ]
          },
          "metadata": {},
          "output_type": "display_data"
        }
      ],
      "source": [
        "import matplotlib.pyplot as plt\n",
        "import seaborn as sns\n",
        "import joblib\n",
        "from sklearn.metrics import confusion_matrix\n",
        "\n",
        "# Load the label encoder used during training\n",
        "label_encoder = joblib.load(\"label_encoder.pkl\")\n",
        "class_names = label_encoder.classes_\n",
        "\n",
        "# Plot confusion matrix with actual class names\n",
        "plt.figure(figsize=(8, 6))\n",
        "plt.title('Confusion Matrix - Random Forest (Multiclass)')\n",
        "sns.heatmap(confusion_matrix(y_test, y_pred), annot=True, fmt='d', cmap='Blues',\n",
        "            xticklabels=class_names, yticklabels=class_names)\n",
        "plt.xlabel(\"Predicted\")\n",
        "plt.ylabel(\"Actual\")\n",
        "plt.tight_layout()\n",
        "plt.show()\n"
      ]
    },
    {
      "cell_type": "code",
      "execution_count": 30,
      "metadata": {
        "colab": {
          "base_uri": "https://localhost:8080/",
          "height": 487
        },
        "id": "Noxtyw8-mJ4Z",
        "outputId": "dc1acb65-aa62-4a55-ea3b-5100ea755d29"
      },
      "outputs": [
        {
          "data": {
            "image/png": "[encoded data removed]",
            "text/plain": [
              "<Figure size 1000x500 with 1 Axes>"
            ]
          },
          "metadata": {},
          "output_type": "display_data"
        }
      ],
      "source": [
        "import numpy as np\n",
        "import matplotlib.pyplot as plt\n",
        "from sklearn.metrics import classification_report\n",
        "import joblib\n",
        "\n",
        "# Load label encoder to get condition names\n",
        "label_encoder = joblib.load(\"label_encoder.pkl\")\n",
        "class_names = label_encoder.classes_\n",
        "\n",
        "# Generate classification report\n",
        "report_dict = classification_report(y_test, y_pred, output_dict=True)\n",
        "\n",
        "# Extract scores for each class\n",
        "precision = [report_dict[str(i)]['precision'] for i in range(len(class_names))]\n",
        "recall = [report_dict[str(i)]['recall'] for i in range(len(class_names))]\n",
        "f1_score = [report_dict[str(i)]['f1-score'] for i in range(len(class_names))]\n",
        "\n",
        "# Plotting\n",
        "x = np.arange(len(class_names))\n",
        "width = 0.2\n",
        "\n",
        "fig, ax = plt.subplots(figsize=(10, 5))\n",
        "rects1 = ax.bar(x - width, precision, width, label='Precision')\n",
        "rects2 = ax.bar(x, recall, width, label='Recall')\n",
        "rects3 = ax.bar(x + width, f1_score, width, label='F1-Score')\n",
        "\n",
        "ax.set_ylabel('Scores')\n",
        "ax.set_title('Classification Report - Random Forest')\n",
        "ax.set_xticks(x)\n",
        "ax.set_xticklabels(class_names, rotation=45)\n",
        "ax.legend()\n",
        "\n",
        "fig.tight_layout()\n",
        "plt.show()\n"
      ]
    },
    {
      "cell_type": "code",
      "execution_count": 31,
      "metadata": {
        "colab": {
          "base_uri": "https://localhost:8080/",
          "height": 314
        },
        "id": "DMb6c5vpmRnR",
        "outputId": "1d78acbe-0f31-46e3-ffdc-cbd2d585b711"
      },
      "outputs": [
        {
          "data": {
            "image/png": "[encoded data removed]",
            "text/plain": [
              "<Figure size 400x300 with 1 Axes>"
            ]
          },
          "metadata": {},
          "output_type": "display_data"
        }
      ],
      "source": [
        "from sklearn.metrics import accuracy_score\n",
        "import matplotlib.pyplot as plt\n",
        "\n",
        "# Calculate accuracy\n",
        "accuracy = accuracy_score(y_test, y_pred)\n",
        "\n",
        "# Plot\n",
        "plt.figure(figsize=(4, 3))\n",
        "plt.bar(['Accuracy'], [accuracy], color='skyblue')\n",
        "plt.ylim([0, 1.1])  # Add space for label above the bar\n",
        "plt.ylabel('Accuracy')\n",
        "plt.title('Random Forest Accuracy')\n",
        "plt.text(0, min(accuracy + 0.03, 1.05), f'{accuracy:.2f}', ha='center', va='bottom', fontsize=12)\n",
        "plt.tight_layout()\n",
        "plt.show()\n"
      ]
    },
    {
      "cell_type": "markdown",
      "metadata": {
        "id": "X5bgeYO0d29t"
      },
      "source": [
        "### CatBoostClassifier"
      ]
    },
    {
      "cell_type": "markdown",
      "metadata": {},
      "source": [
        "#### Target setup "
      ]
    },
    {
      "cell_type": "code",
      "execution_count": 32,
      "metadata": {},
      "outputs": [],
      "source": [
        "df['Condition_Label'] = df['Medical Condition']  # Multiclass target\n"
      ]
    },
    {
      "cell_type": "markdown",
      "metadata": {},
      "source": [
        "#### Feature Selection & Encoding"
      ]
    },
    {
      "cell_type": "code",
      "execution_count": 33,
      "metadata": {
        "colab": {
          "base_uri": "https://localhost:8080/"
        },
        "id": "aiyM1PDPdhM2",
        "outputId": "38f58b75-6314-4d23-a421-47ce15bc8095"
      },
      "outputs": [
        {
          "data": {
            "text/plain": [
              "['feature_columns.pkl']"
            ]
          },
          "execution_count": 33,
          "metadata": {},
          "output_type": "execute_result"
        }
      ],
      "source": [
        "# Define features\n",
        "features = ['Age', 'Gender', 'Blood Type', 'Billing Amount', 'Admission Type',\n",
        "            'Length of Stay', 'Medication', 'Test Results']\n",
        "\n",
        "# Use multiclass label\n",
        "df_model = df[features + ['Condition_Label']].dropna()\n",
        "\n",
        "X = df_model.drop(\"Condition_Label\", axis=1)\n",
        "y_raw = df_model[\"Condition_Label\"]\n",
        "\n",
        "# Encode target labels\n",
        "from sklearn.preprocessing import LabelEncoder\n",
        "label_encoder = LabelEncoder()\n",
        "y = label_encoder.fit_transform(y_raw)\n",
        "joblib.dump(label_encoder, \"label_encoder.pkl\")  # Save encoder\n",
        "\n",
        "# One-hot encode features\n",
        "X_encoded = pd.get_dummies(X)\n",
        "\n",
        "# OPTIONAL: Save structure if you haven't already\n",
        "joblib.dump(X_encoded.columns.tolist(), \"feature_columns.pkl\")\n"
      ]
    },
    {
      "cell_type": "markdown",
      "metadata": {},
      "source": [
        "#### Oversampling + Training"
      ]
    },
    {
      "cell_type": "code",
      "execution_count": 34,
      "metadata": {},
      "outputs": [
        {
          "data": {
            "text/plain": [
              "<catboost.core.CatBoostClassifier at 0x1c29d9149d0>"
            ]
          },
          "execution_count": 34,
          "metadata": {},
          "output_type": "execute_result"
        }
      ],
      "source": [
        "# Apply SMOTE to handle class imbalance\n",
        "X_resampled, y_resampled = SMOTE(random_state=42).fit_resample(X_encoded, y)\n",
        "\n",
        "# Train-test split\n",
        "X_train, X_test, y_train, y_test = train_test_split(\n",
        "    X_resampled, y_resampled, test_size=0.2, random_state=42)\n",
        "\n",
        "# Train CatBoost (no need to specify cat_features with dummies)\n",
        "model = CatBoostClassifier(verbose=0, random_state=42)\n",
        "model.fit(X_train, y_train)\n"
      ]
    },
    {
      "cell_type": "markdown",
      "metadata": {},
      "source": [
        "#### Evaluation"
      ]
    },
    {
      "cell_type": "code",
      "execution_count": 35,
      "metadata": {},
      "outputs": [
        {
          "name": "stdout",
          "output_type": "stream",
          "text": [
            "Confusion Matrix:\n",
            " [[347 278 282 310 301 316]\n",
            " [282 362 316 298 307 333]\n",
            " [238 299 402 282 284 290]\n",
            " [282 272 325 367 326 321]\n",
            " [263 301 287 283 362 316]\n",
            " [313 268 282 286 282 399]]\n",
            "\n",
            "Classification Report:\n",
            "               precision    recall  f1-score   support\n",
            "\n",
            "           0       0.20      0.19      0.19      1834\n",
            "           1       0.20      0.19      0.20      1898\n",
            "           2       0.21      0.22      0.22      1795\n",
            "           3       0.20      0.19      0.20      1893\n",
            "           4       0.19      0.20      0.20      1812\n",
            "           5       0.20      0.22      0.21      1830\n",
            "\n",
            "    accuracy                           0.20     11062\n",
            "   macro avg       0.20      0.20      0.20     11062\n",
            "weighted avg       0.20      0.20      0.20     11062\n",
            "\n",
            "Accuracy: 0.20\n",
            "ROC AUC (OvR): 0.54\n"
          ]
        }
      ],
      "source": [
        "from sklearn.metrics import confusion_matrix, classification_report, accuracy_score, roc_auc_score\n",
        "\n",
        "# Predict labels and probabilities\n",
        "y_pred = model.predict(X_test)\n",
        "y_proba = model.predict_proba(X_test)  # Needed for multiclass AUC\n",
        "\n",
        "# Evaluate\n",
        "print(\"Confusion Matrix:\\n\", confusion_matrix(y_test, y_pred))\n",
        "print(\"\\nClassification Report:\\n\", classification_report(y_test, y_pred))\n",
        "print(f\"Accuracy: {accuracy_score(y_test, y_pred):.2f}\")\n",
        "\n",
        "# Multiclass ROC AUC (One-vs-Rest)\n",
        "roc_auc = roc_auc_score(y_test, y_proba, multi_class='ovr')\n",
        "print(f\"ROC AUC (OvR): {roc_auc:.2f}\")\n"
      ]
    },
    {
      "cell_type": "markdown",
      "metadata": {},
      "source": [
        "#### saving CatBoost model "
      ]
    },
    {
      "cell_type": "code",
      "execution_count": 36,
      "metadata": {},
      "outputs": [
        {
          "name": "stdout",
          "output_type": "stream",
          "text": [
            "✅ CatBoost model saved.\n"
          ]
        }
      ],
      "source": [
        "# Save CatBoost model only (feature_columns already saved)\n",
        "joblib.dump(model, \"catboost_diabetes_model.pkl\")\n",
        "print(\"✅ CatBoost model saved.\")\n"
      ]
    },
    {
      "cell_type": "markdown",
      "metadata": {},
      "source": [
        "#### plotting "
      ]
    },
    {
      "cell_type": "code",
      "execution_count": 37,
      "metadata": {
        "colab": {
          "base_uri": "https://localhost:8080/",
          "height": 391
        },
        "id": "-52fwnSBmlzx",
        "outputId": "16be9343-8b7b-4e25-a2fc-3145efc7c0b0"
      },
      "outputs": [
        {
          "data": {
            "image/png": "[encoded data removed]",
            "text/plain": [
              "<Figure size 800x600 with 2 Axes>"
            ]
          },
          "metadata": {},
          "output_type": "display_data"
        }
      ],
      "source": [
        "import matplotlib.pyplot as plt\n",
        "import seaborn as sns\n",
        "import joblib\n",
        "from sklearn.metrics import confusion_matrix\n",
        "\n",
        "# Load the label encoder to decode class indices to names\n",
        "label_encoder = joblib.load(\"label_encoder.pkl\")\n",
        "class_names = label_encoder.classes_\n",
        "\n",
        "# Plot confusion matrix\n",
        "plt.figure(figsize=(8, 6))\n",
        "plt.title('Confusion Matrix - CatBoost (Multiclass)')\n",
        "sns.heatmap(confusion_matrix(y_test, y_pred), annot=True, fmt='d', cmap='Blues',\n",
        "            xticklabels=class_names, yticklabels=class_names)\n",
        "plt.xlabel(\"Predicted\")\n",
        "plt.ylabel(\"Actual\")\n",
        "plt.tight_layout()\n",
        "plt.show()\n"
      ]
    },
    {
      "cell_type": "code",
      "execution_count": 38,
      "metadata": {
        "colab": {
          "base_uri": "https://localhost:8080/",
          "height": 487
        },
        "id": "t2RQ7Xr1moro",
        "outputId": "7b74041a-7be3-44bd-83f1-1147af1c680e"
      },
      "outputs": [
        {
          "data": {
            "image/png": "[encoded data removed]",
            "text/plain": [
              "<Figure size 1000x500 with 1 Axes>"
            ]
          },
          "metadata": {},
          "output_type": "display_data"
        }
      ],
      "source": [
        "import numpy as np\n",
        "import matplotlib.pyplot as plt\n",
        "from sklearn.metrics import classification_report\n",
        "import joblib\n",
        "\n",
        "# Load label encoder to get actual class names\n",
        "label_encoder = joblib.load(\"label_encoder.pkl\")\n",
        "class_names = label_encoder.classes_\n",
        "\n",
        "# Generate classification report\n",
        "report_dict = classification_report(y_test, y_pred, output_dict=True)\n",
        "\n",
        "# Extract precision, recall, F1-score for each class\n",
        "precision = [report_dict[str(i)]['precision'] for i in range(len(class_names))]\n",
        "recall = [report_dict[str(i)]['recall'] for i in range(len(class_names))]\n",
        "f1_score = [report_dict[str(i)]['f1-score'] for i in range(len(class_names))]\n",
        "\n",
        "# Plot setup\n",
        "x = np.arange(len(class_names))\n",
        "width = 0.2\n",
        "\n",
        "fig, ax = plt.subplots(figsize=(10, 5))\n",
        "rects1 = ax.bar(x - width, precision, width, label='Precision')\n",
        "rects2 = ax.bar(x, recall, width, label='Recall')\n",
        "rects3 = ax.bar(x + width, f1_score, width, label='F1-Score')\n",
        "\n",
        "# Formatting\n",
        "ax.set_ylabel('Scores')\n",
        "ax.set_title('Classification Report - CatBoost')\n",
        "ax.set_xticks(x)\n",
        "ax.set_xticklabels(class_names, rotation=45)\n",
        "ax.legend()\n",
        "fig.tight_layout()\n",
        "\n",
        "# Show plot\n",
        "plt.show()\n"
      ]
    },
    {
      "cell_type": "code",
      "execution_count": 39,
      "metadata": {
        "colab": {
          "base_uri": "https://localhost:8080/",
          "height": 314
        },
        "id": "Z4FersTpmwMh",
        "outputId": "da8bfbcb-36bb-4ab2-99e8-62973c364fc9"
      },
      "outputs": [
        {
          "data": {
            "image/png": "[encoded data removed]",
            "text/plain": [
              "<Figure size 400x300 with 1 Axes>"
            ]
          },
          "metadata": {},
          "output_type": "display_data"
        }
      ],
      "source": [
        "from sklearn.metrics import accuracy_score\n",
        "import matplotlib.pyplot as plt\n",
        "\n",
        "# Calculate accuracy\n",
        "accuracy = accuracy_score(y_test, y_pred)\n",
        "\n",
        "# Plot accuracy bar\n",
        "plt.figure(figsize=(4, 3))\n",
        "plt.bar(['Accuracy'], [accuracy], color='skyblue')\n",
        "plt.ylim([0, 1.1])  # Add space above for label\n",
        "plt.ylabel('Accuracy')\n",
        "plt.title('CatBoost Accuracy')\n",
        "\n",
        "# Add accuracy label above the bar\n",
        "plt.text(0, min(accuracy + 0.03, 1.05), f'{accuracy:.2f}', ha='center', va='bottom', fontsize=12)\n",
        "\n",
        "plt.tight_layout()\n",
        "plt.show()\n"
      ]
    },
    {
      "cell_type": "markdown",
      "metadata": {
        "id": "gnAePuJwvg2H"
      },
      "source": [
        "# **Model Optimization**"
      ]
    },
    {
      "cell_type": "markdown",
      "metadata": {},
      "source": [
        "#### Accuracy Optimization via Grid Search"
      ]
    },
    {
      "cell_type": "code",
      "execution_count": 40,
      "metadata": {},
      "outputs": [
        {
          "name": "stdout",
          "output_type": "stream",
          "text": [
            "Fitting 5 folds for each of 243 candidates, totalling 1215 fits\n"
          ]
        },
        {
          "name": "stderr",
          "output_type": "stream",
          "text": [
            "C:\\Users\\omara\\AppData\\Local\\Packages\\PythonSoftwareFoundation.Python.3.11_qbz5n2kfra8p0\\LocalCache\\local-packages\\Python311\\site-packages\\xgboost\\training.py:183: UserWarning: [23:58:17] WARNING: C:\\actions-runner\\_work\\xgboost\\xgboost\\src\\learner.cc:738: \n",
            "Parameters: { \"use_label_encoder\" } are not used.\n",
            "\n",
            "  bst.update(dtrain, iteration=i, fobj=obj)\n"
          ]
        },
        {
          "name": "stdout",
          "output_type": "stream",
          "text": [
            "✅ Best parameters (accuracy): {'colsample_bytree': 1.0, 'learning_rate': 0.2, 'max_depth': 7, 'n_estimators': 200, 'subsample': 0.9}\n",
            "✅ Best cross-validated accuracy: 0.22\n"
          ]
        }
      ],
      "source": [
        "from xgboost import XGBClassifier\n",
        "from sklearn.model_selection import GridSearchCV\n",
        "import numpy as np\n",
        "\n",
        "# Get number of unique classes\n",
        "num_classes = len(np.unique(y_train))\n",
        "\n",
        "# Define parameter grid\n",
        "param_grid = {\n",
        "    'learning_rate': [0.01, 0.1, 0.2],\n",
        "    'n_estimators': [50, 100, 200],\n",
        "    'max_depth': [3, 5, 7],\n",
        "    'subsample': [0.8, 0.9, 1.0],\n",
        "    'colsample_bytree': [0.8, 0.9, 1.0]\n",
        "}\n",
        "\n",
        "# Initialize GridSearchCV for multiclass XGBoost\n",
        "grid_search = GridSearchCV(\n",
        "    estimator=XGBClassifier(\n",
        "        use_label_encoder=False,\n",
        "        eval_metric='mlogloss',\n",
        "        objective='multi:softprob',\n",
        "        num_class=num_classes,\n",
        "        random_state=42\n",
        "    ),\n",
        "    param_grid=param_grid,\n",
        "    scoring='accuracy',\n",
        "    cv=5,\n",
        "    n_jobs=-1,\n",
        "    verbose=2\n",
        ")\n",
        "\n",
        "# Fit grid search\n",
        "grid_search.fit(X_train, y_train)\n",
        "\n",
        "# Output best results\n",
        "print(\"✅ Best parameters (accuracy):\", grid_search.best_params_)\n",
        "print(f\"✅ Best cross-validated accuracy: {grid_search.best_score_:.2f}\")\n"
      ]
    },
    {
      "cell_type": "markdown",
      "metadata": {},
      "source": [
        "#### Evaluate Best Accuracy Model with Thresholds"
      ]
    },
    {
      "cell_type": "code",
      "execution_count": 41,
      "metadata": {},
      "outputs": [
        {
          "name": "stdout",
          "output_type": "stream",
          "text": [
            "\n",
            "🎯 Accuracy of best model: 0.23\n",
            "Confusion Matrix:\n",
            "[[387 251 301 291 293 311]\n",
            " [251 420 304 321 278 324]\n",
            " [258 271 423 260 290 293]\n",
            " [290 281 296 428 301 297]\n",
            " [252 281 262 291 421 305]\n",
            " [267 268 303 284 268 440]]\n",
            "\n",
            "Classification Report:\n",
            "              precision    recall  f1-score   support\n",
            "\n",
            "           0       0.23      0.21      0.22      1834\n",
            "           1       0.24      0.22      0.23      1898\n",
            "           2       0.22      0.24      0.23      1795\n",
            "           3       0.23      0.23      0.23      1893\n",
            "           4       0.23      0.23      0.23      1812\n",
            "           5       0.22      0.24      0.23      1830\n",
            "\n",
            "    accuracy                           0.23     11062\n",
            "   macro avg       0.23      0.23      0.23     11062\n",
            "weighted avg       0.23      0.23      0.23     11062\n",
            "\n",
            "ROC AUC (OvR): 0.56\n"
          ]
        }
      ],
      "source": [
        "from sklearn.metrics import accuracy_score, confusion_matrix, classification_report, roc_auc_score\n",
        "\n",
        "# Best model from GridSearchCV\n",
        "best_model = grid_search.best_estimator_\n",
        "\n",
        "# Predict labels and probabilities\n",
        "y_pred = best_model.predict(X_test)\n",
        "y_proba = best_model.predict_proba(X_test)\n",
        "\n",
        "# Accuracy\n",
        "print(f\"\\n🎯 Accuracy of best model: {accuracy_score(y_test, y_pred):.2f}\")\n",
        "\n",
        "# Confusion matrix and classification report\n",
        "print(\"Confusion Matrix:\")\n",
        "print(confusion_matrix(y_test, y_pred))\n",
        "print(\"\\nClassification Report:\")\n",
        "print(classification_report(y_test, y_pred))\n",
        "\n",
        "# Multiclass ROC AUC\n",
        "roc_auc = roc_auc_score(y_test, y_proba, multi_class='ovr')\n",
        "print(f\"ROC AUC (OvR): {roc_auc:.2f}\")\n"
      ]
    },
    {
      "cell_type": "markdown",
      "metadata": {},
      "source": [
        "#### saving optimized XGBoost model "
      ]
    },
    {
      "cell_type": "code",
      "execution_count": 42,
      "metadata": {},
      "outputs": [
        {
          "name": "stdout",
          "output_type": "stream",
          "text": [
            "✅ Optimized model saved as 'optimized_xgb_model.pkl'\n"
          ]
        }
      ],
      "source": [
        "joblib.dump(best_model, \"optimized_xgb_model.pkl\")\n",
        "print(\"✅ Optimized model saved as 'optimized_xgb_model.pkl'\")\n"
      ]
    },
    {
      "cell_type": "markdown",
      "metadata": {},
      "source": [
        "#### Optimize for Recall"
      ]
    },
    {
      "cell_type": "code",
      "execution_count": 43,
      "metadata": {},
      "outputs": [
        {
          "name": "stdout",
          "output_type": "stream",
          "text": [
            "Fitting 3 folds for each of 243 candidates, totalling 729 fits\n"
          ]
        },
        {
          "name": "stderr",
          "output_type": "stream",
          "text": [
            "C:\\Users\\omara\\AppData\\Local\\Packages\\PythonSoftwareFoundation.Python.3.11_qbz5n2kfra8p0\\LocalCache\\local-packages\\Python311\\site-packages\\xgboost\\training.py:183: UserWarning: [00:00:54] WARNING: C:\\actions-runner\\_work\\xgboost\\xgboost\\src\\learner.cc:738: \n",
            "Parameters: { \"use_label_encoder\" } are not used.\n",
            "\n",
            "  bst.update(dtrain, iteration=i, fobj=obj)\n"
          ]
        },
        {
          "name": "stdout",
          "output_type": "stream",
          "text": [
            "🔍 Best parameters (recall): {'colsample_bytree': 1.0, 'learning_rate': 0.2, 'max_depth': 7, 'n_estimators': 200, 'subsample': 0.9}\n",
            "🔍 Best cross-validated recall score: 0.22\n"
          ]
        }
      ],
      "source": [
        "from xgboost import XGBClassifier\n",
        "from sklearn.model_selection import GridSearchCV\n",
        "import numpy as np\n",
        "\n",
        "# Get number of classes\n",
        "num_classes = len(np.unique(y_train))\n",
        "\n",
        "# Use recall_macro to score recall across all classes\n",
        "recall_grid = GridSearchCV(\n",
        "    estimator=XGBClassifier(\n",
        "        use_label_encoder=False,\n",
        "        eval_metric='mlogloss',\n",
        "        objective='multi:softprob',\n",
        "        num_class=num_classes,\n",
        "        random_state=42\n",
        "    ),\n",
        "    param_grid=param_grid,\n",
        "    scoring='recall_macro',  # ✅ multiclass-safe\n",
        "    cv=3,\n",
        "    n_jobs=-1,\n",
        "    verbose=1\n",
        ")\n",
        "\n",
        "# Fit grid search\n",
        "recall_grid.fit(X_train, y_train)\n",
        "\n",
        "# Output results\n",
        "print(\"🔍 Best parameters (recall):\", recall_grid.best_params_)\n",
        "print(f\"🔍 Best cross-validated recall score: {recall_grid.best_score_:.2f}\")\n"
      ]
    },
    {
      "cell_type": "markdown",
      "metadata": {},
      "source": [
        "#### Evaluation "
      ]
    },
    {
      "cell_type": "code",
      "execution_count": 44,
      "metadata": {},
      "outputs": [
        {
          "name": "stdout",
          "output_type": "stream",
          "text": [
            "✅ Macro-Averaged Recall of Recall-Optimized Model: 0.23\n",
            "\n",
            "📋 Full Classification Report:\n",
            "              precision    recall  f1-score   support\n",
            "\n",
            "           0       0.23      0.21      0.22      1834\n",
            "           1       0.24      0.22      0.23      1898\n",
            "           2       0.22      0.24      0.23      1795\n",
            "           3       0.23      0.23      0.23      1893\n",
            "           4       0.23      0.23      0.23      1812\n",
            "           5       0.22      0.24      0.23      1830\n",
            "\n",
            "    accuracy                           0.23     11062\n",
            "   macro avg       0.23      0.23      0.23     11062\n",
            "weighted avg       0.23      0.23      0.23     11062\n",
            "\n"
          ]
        }
      ],
      "source": [
        "from sklearn.metrics import recall_score, classification_report\n",
        "\n",
        "# Get best recall-optimized model\n",
        "recall_model = recall_grid.best_estimator_\n",
        "\n",
        "# Predict on test set\n",
        "y_pred_recall = recall_model.predict(X_test)\n",
        "\n",
        "# Evaluate using macro recall\n",
        "recall_value = recall_score(y_test, y_pred_recall, average='macro')\n",
        "print(f\"✅ Macro-Averaged Recall of Recall-Optimized Model: {recall_value:.2f}\")\n",
        "\n",
        "# Full classification report\n",
        "print(\"\\n📋 Full Classification Report:\")\n",
        "print(classification_report(y_test, y_pred_recall, zero_division=0))\n"
      ]
    },
    {
      "cell_type": "markdown",
      "metadata": {},
      "source": [
        "#### Save the Recall-Optimized Model"
      ]
    },
    {
      "cell_type": "code",
      "execution_count": 45,
      "metadata": {},
      "outputs": [
        {
          "name": "stdout",
          "output_type": "stream",
          "text": [
            "✅ Recall-optimized XGBoost model saved as 'xgb_recall_model.pkl'\n"
          ]
        }
      ],
      "source": [
        "\n",
        "\n",
        "# Save the best estimator optimized for recall\n",
        "joblib.dump(recall_grid.best_estimator_, \"xgb_recall_model.pkl\")\n",
        "print(\"✅ Recall-optimized XGBoost model saved as 'xgb_recall_model.pkl'\")\n"
      ]
    },
    {
      "cell_type": "markdown",
      "metadata": {},
      "source": [
        "#### plotting "
      ]
    },
    {
      "cell_type": "code",
      "execution_count": 46,
      "metadata": {
        "colab": {
          "base_uri": "https://localhost:8080/",
          "height": 410
        },
        "id": "XPGCts1m4Xyv",
        "outputId": "039941d9-6773-4b71-919a-fb055fb067ae"
      },
      "outputs": [
        {
          "data": {
            "image/png": "[encoded data removed]",
            "text/plain": [
              "<Figure size 800x600 with 1 Axes>"
            ]
          },
          "metadata": {},
          "output_type": "display_data"
        }
      ],
      "source": [
        "from sklearn.metrics import roc_curve, auc\n",
        "from sklearn.preprocessing import label_binarize\n",
        "import matplotlib.pyplot as plt\n",
        "import numpy as np\n",
        "\n",
        "# Binarize y_test for multiclass ROC\n",
        "y_test_bin = label_binarize(y_test, classes=np.unique(y_test))  # shape: (n_samples, n_classes)\n",
        "n_classes = y_test_bin.shape[1]\n",
        "\n",
        "# Initialize figure\n",
        "plt.figure(figsize=(8, 6))\n",
        "\n",
        "# Plot ROC for each class\n",
        "for i in range(n_classes):\n",
        "    fpr, tpr, _ = roc_curve(y_test_bin[:, i], y_proba[:, i])\n",
        "    roc_auc = auc(fpr, tpr)\n",
        "    plt.plot(fpr, tpr, lw=2, label=f'Class {i} (AUC = {roc_auc:.2f})')\n",
        "\n",
        "# Diagonal line\n",
        "plt.plot([0, 1], [0, 1], 'k--', lw=1)\n",
        "\n",
        "plt.xlabel('False Positive Rate')\n",
        "plt.ylabel('True Positive Rate')\n",
        "plt.title('Multiclass ROC Curve (One-vs-Rest)')\n",
        "plt.legend(loc=\"lower right\")\n",
        "plt.grid()\n",
        "plt.tight_layout()\n",
        "plt.show()\n"
      ]
    },
    {
      "cell_type": "markdown",
      "metadata": {
        "id": "no1kh21FKvtg"
      },
      "source": [
        "### MLOP Implementation**"
      ]
    },
    {
      "cell_type": "markdown",
      "metadata": {},
      "source": [
        "#### Set MLflow Experiment and Train Model"
      ]
    },
    {
      "cell_type": "code",
      "execution_count": 47,
      "metadata": {},
      "outputs": [
        {
          "data": {
            "text/plain": [
              "'\\n# Set the MLflow experiment name\\nmlflow.set_experiment(\"disease_prediction_xgboost\")\\n\\n# Define hyperparameter grid (could be expanded later)\\nparam_grid = {\\n    \\'learning_rate\\': [0.1],\\n    \\'n_estimators\\': [100],\\n    \\'max_depth\\': [5],\\n    \\'subsample\\': [0.9],\\n    \\'colsample_bytree\\': [0.9]\\n}\\n\\n# Grid search for best model\\ngrid_search = GridSearchCV(\\n    estimator=XGBClassifier(use_label_encoder=False, eval_metric=\\'logloss\\', random_state=42),\\n    param_grid=param_grid,\\n    scoring=\\'accuracy\\',\\n    cv=5,\\n    n_jobs=-1,\\n    verbose=1\\n)\\n\\ngrid_search.fit(X_train, y_train)\\nbest_model = grid_search.best_estimator_\\ny_pred = best_model.predict(X_test)\\n'"
            ]
          },
          "execution_count": 47,
          "metadata": {},
          "output_type": "execute_result"
        }
      ],
      "source": [
        "\"\"\"\n",
        "# Set the MLflow experiment name\n",
        "mlflow.set_experiment(\"disease_prediction_xgboost\")\n",
        "\n",
        "# Define hyperparameter grid (could be expanded later)\n",
        "param_grid = {\n",
        "    'learning_rate': [0.1],\n",
        "    'n_estimators': [100],\n",
        "    'max_depth': [5],\n",
        "    'subsample': [0.9],\n",
        "    'colsample_bytree': [0.9]\n",
        "}\n",
        "\n",
        "# Grid search for best model\n",
        "grid_search = GridSearchCV(\n",
        "    estimator=XGBClassifier(use_label_encoder=False, eval_metric='logloss', random_state=42),\n",
        "    param_grid=param_grid,\n",
        "    scoring='accuracy',\n",
        "    cv=5,\n",
        "    n_jobs=-1,\n",
        "    verbose=1\n",
        ")\n",
        "\n",
        "grid_search.fit(X_train, y_train)\n",
        "best_model = grid_search.best_estimator_\n",
        "y_pred = best_model.predict(X_test)\n",
        "\"\"\"\n"
      ]
    },
    {
      "cell_type": "markdown",
      "metadata": {},
      "source": [
        "#### MLflow Logging"
      ]
    },
    {
      "cell_type": "code",
      "execution_count": 48,
      "metadata": {},
      "outputs": [
        {
          "data": {
            "text/plain": [
              "'\\n# Start MLflow logging\\nwith mlflow.start_run(run_name=\"XGBoost_Classifier_Tuned\"):\\n\\n    # Log parameters and accuracy\\n    acc = accuracy_score(y_test, y_pred)\\n    mlflow.log_param(\"model_type\", \"XGBoostClassifier\")\\n    for param, value in grid_search.best_params_.items():\\n        mlflow.log_param(param, value)\\n    mlflow.log_metric(\"accuracy\", acc)\\n\\n    # Save classification report\\n    report = classification_report(y_test, y_pred, zero_division=0)\\n    os.makedirs(\"mlruns_artifacts\", exist_ok=True)\\n    with open(\"mlruns_artifacts/classification_report.txt\", \"w\") as f:\\n        f.write(report)\\n    mlflow.log_artifact(\"mlruns_artifacts/classification_report.txt\")\\n\\n    # Save and log confusion matrix plot\\n    cm = confusion_matrix(y_test, y_pred)\\n    plt.figure(figsize=(6, 5))\\n    sns.heatmap(cm, annot=True, fmt=\\'d\\', cmap=\\'Blues\\')\\n    plt.title(\"Confusion Matrix\")\\n    plt.xlabel(\"Predicted\")\\n    plt.ylabel(\"Actual\")\\n    plt.tight_layout()\\n    plt.savefig(\"mlruns_artifacts/confusion_matrix.png\")\\n    mlflow.log_artifact(\"mlruns_artifacts/confusion_matrix.png\")\\n\\n    # Log the trained model\\n    mlflow.sklearn.log_model(best_model, \"model\")\\n'"
            ]
          },
          "execution_count": 48,
          "metadata": {},
          "output_type": "execute_result"
        }
      ],
      "source": [
        "\"\"\"\n",
        "# Start MLflow logging\n",
        "with mlflow.start_run(run_name=\"XGBoost_Classifier_Tuned\"):\n",
        "\n",
        "    # Log parameters and accuracy\n",
        "    acc = accuracy_score(y_test, y_pred)\n",
        "    mlflow.log_param(\"model_type\", \"XGBoostClassifier\")\n",
        "    for param, value in grid_search.best_params_.items():\n",
        "        mlflow.log_param(param, value)\n",
        "    mlflow.log_metric(\"accuracy\", acc)\n",
        "\n",
        "    # Save classification report\n",
        "    report = classification_report(y_test, y_pred, zero_division=0)\n",
        "    os.makedirs(\"mlruns_artifacts\", exist_ok=True)\n",
        "    with open(\"mlruns_artifacts/classification_report.txt\", \"w\") as f:\n",
        "        f.write(report)\n",
        "    mlflow.log_artifact(\"mlruns_artifacts/classification_report.txt\")\n",
        "\n",
        "    # Save and log confusion matrix plot\n",
        "    cm = confusion_matrix(y_test, y_pred)\n",
        "    plt.figure(figsize=(6, 5))\n",
        "    sns.heatmap(cm, annot=True, fmt='d', cmap='Blues')\n",
        "    plt.title(\"Confusion Matrix\")\n",
        "    plt.xlabel(\"Predicted\")\n",
        "    plt.ylabel(\"Actual\")\n",
        "    plt.tight_layout()\n",
        "    plt.savefig(\"mlruns_artifacts/confusion_matrix.png\")\n",
        "    mlflow.log_artifact(\"mlruns_artifacts/confusion_matrix.png\")\n",
        "\n",
        "    # Log the trained model\n",
        "    mlflow.sklearn.log_model(best_model, \"model\")\n",
        "\"\"\""
      ]
    },
    {
      "cell_type": "markdown",
      "metadata": {},
      "source": [
        "#### Start MLflow UI + Ngrok"
      ]
    },
    {
      "cell_type": "code",
      "execution_count": 49,
      "metadata": {},
      "outputs": [
        {
          "data": {
            "text/plain": [
              "'\\n# Launch MLflow UI in the background (Colab / Jupyter)\\nget_ipython().system_raw(\"mlflow ui --port 5000 &\")\\n'"
            ]
          },
          "execution_count": 49,
          "metadata": {},
          "output_type": "execute_result"
        }
      ],
      "source": [
        "\"\"\"\n",
        "# Launch MLflow UI in the background (Colab / Jupyter)\n",
        "get_ipython().system_raw(\"mlflow ui --port 5000 &\")\n",
        "\"\"\""
      ]
    },
    {
      "cell_type": "markdown",
      "metadata": {},
      "source": [
        "#### Expose MLflow UI via Ngrok"
      ]
    },
    {
      "cell_type": "code",
      "execution_count": 50,
      "metadata": {},
      "outputs": [
        {
          "data": {
            "text/plain": [
              "'\\n# ⚠️ Tip: For security, store token in an environment variable or config file in real use\\nngrok.set_auth_token(\"YOUR_NGROK_AUTH_TOKEN_HERE\")  # Replace or use env variable\\npublic_url = ngrok.connect(5000)\\nprint(\"🔗 MLflow Tracking UI:\", public_url)\\n'"
            ]
          },
          "execution_count": 50,
          "metadata": {},
          "output_type": "execute_result"
        }
      ],
      "source": [
        "\"\"\"\n",
        "# ⚠️ Tip: For security, store token in an environment variable or config file in real use\n",
        "ngrok.set_auth_token(\"YOUR_NGROK_AUTH_TOKEN_HERE\")  # Replace or use env variable\n",
        "public_url = ngrok.connect(5000)\n",
        "print(\"🔗 MLflow Tracking UI:\", public_url)\n",
        "\"\"\"\n"
      ]
    },
    {
      "cell_type": "markdown",
      "metadata": {},
      "source": []
    }
  ],
  "metadata": {
    "colab": {
      "provenance": []
    },
    "kernelspec": {
      "display_name": "Python 3",
      "name": "python3"
    },
    "language_info": {
      "codemirror_mode": {
        "name": "ipython",
        "version": 3
      },
      "file_extension": ".py",
      "mimetype": "text/x-python",
      "name": "python",
      "nbconvert_exporter": "python",
      "pygments_lexer": "ipython3",
      "version": "3.11.9"
    }
  },
  "nbformat": 4,
  "nbformat_minor": 0
}
